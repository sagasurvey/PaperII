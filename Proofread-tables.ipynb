{
 "cells": [
  {
   "cell_type": "code",
   "execution_count": null,
   "metadata": {},
   "outputs": [],
   "source": [
    "from astropy.table import Table"
   ]
  },
  {
   "cell_type": "code",
   "execution_count": null,
   "metadata": {},
   "outputs": [],
   "source": [
    "t2 = Table.read(\"/home/yymao/Downloads/AAS27009R2_datareview/datafile2.txt\", format=\"ascii.cds\")"
   ]
  },
  {
   "cell_type": "code",
   "execution_count": null,
   "metadata": {},
   "outputs": [],
   "source": [
    "t2o = Table.read('https://sagasurvey.org/data/saga_stage2_hosts.csv')"
   ]
  },
  {
   "cell_type": "code",
   "execution_count": null,
   "metadata": {},
   "outputs": [],
   "source": [
    "for c1, c2 in zip(t2.colnames, t2o.colnames):\n",
    "    if not (t2[c1] == t2o[c2]).all():\n",
    "        print(c1)"
   ]
  },
  {
   "cell_type": "code",
   "execution_count": null,
   "metadata": {},
   "outputs": [],
   "source": [
    "for n1, n2 in zip(t2[\"Name\"], t2o[\"COMMON_NAME\"]):\n",
    "    if not n1.replace(\" \", \"\") == n2:\n",
    "        print(n1)"
   ]
  },
  {
   "cell_type": "code",
   "execution_count": null,
   "metadata": {},
   "outputs": [],
   "source": [
    "t3 = Table.read(\"/home/yymao/Downloads/AAS27009R2_datareview/datafile3.txt\", format=\"ascii.cds\")"
   ]
  },
  {
   "cell_type": "code",
   "execution_count": null,
   "metadata": {},
   "outputs": [],
   "source": [
    "t3o = Table.read('https://sagasurvey.org/data/saga_stage2_sats.csv')"
   ]
  },
  {
   "cell_type": "code",
   "execution_count": null,
   "metadata": {},
   "outputs": [],
   "source": [
    "for c1, c2 in zip(t3.colnames, t3o.colnames):\n",
    "    if not (t3[c1] == t3o[c2]).all():\n",
    "        print(c1)"
   ]
  },
  {
   "cell_type": "code",
   "execution_count": null,
   "metadata": {},
   "outputs": [],
   "source": [
    "for n1, n2 in zip(t3[\"Name\"], t3o[\"HOST_COMMON_NAME\"]):\n",
    "    if not n1.replace(\" \", \"\") == n2:\n",
    "        print(n1)"
   ]
  },
  {
   "cell_type": "code",
   "execution_count": null,
   "metadata": {},
   "outputs": [],
   "source": []
  }
 ],
 "metadata": {
  "kernelspec": {
   "display_name": "Python 3",
   "language": "python",
   "name": "python3"
  },
  "language_info": {
   "codemirror_mode": {
    "name": "ipython",
    "version": 3
   },
   "file_extension": ".py",
   "mimetype": "text/x-python",
   "name": "python",
   "nbconvert_exporter": "python",
   "pygments_lexer": "ipython3",
   "version": "3.8.6"
  }
 },
 "nbformat": 4,
 "nbformat_minor": 4
}

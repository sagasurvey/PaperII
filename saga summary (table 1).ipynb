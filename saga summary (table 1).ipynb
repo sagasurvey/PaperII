{
 "cells": [
  {
   "cell_type": "code",
   "execution_count": null,
   "metadata": {},
   "outputs": [],
   "source": [
    "import sys\n",
    "sys.path.insert(0, \"/home/yymao/Dropbox/Academia/Collaborations/SAGA-local/saga\")"
   ]
  },
  {
   "cell_type": "code",
   "execution_count": null,
   "metadata": {},
   "outputs": [],
   "source": [
    "import SAGA\n",
    "from easyquery import Query, QueryMaker\n",
    "from SAGA.database import FitsTable\n",
    "from SAGA import ObjectCuts as C\n",
    "from SAGA import HostCuts as H"
   ]
  },
  {
   "cell_type": "code",
   "execution_count": null,
   "metadata": {},
   "outputs": [],
   "source": [
    "saga = SAGA.QuickStart()"
   ]
  },
  {
   "cell_type": "code",
   "execution_count": null,
   "metadata": {},
   "outputs": [],
   "source": [
    "specs_1 = FitsTable(saga._shared_dir + \"/Paper1/saga_spectra_clean.fits.gz\").read()"
   ]
  },
  {
   "cell_type": "code",
   "execution_count": null,
   "metadata": {},
   "outputs": [],
   "source": [
    "specs_1[\"HOSTID\"] = np.char.add(\"nsa\", specs_1[\"HOST_NSAID\"].astype(\"<7U\"))\n",
    "specs_1[\"r_mag\"] = specs_1[\"r\"] - specs_1[\"EXTINCTION_R\"]\n",
    "specs_1[\"Mr\"] = specs_1[\"r_mag\"] - np.log10(specs_1[\"HOST_DIST\"])*5 - 25"
   ]
  },
  {
   "cell_type": "code",
   "execution_count": null,
   "metadata": {},
   "outputs": [],
   "source": [
    "specs_2 = saga.object_catalog.load_clean_specs()"
   ]
  },
  {
   "cell_type": "code",
   "execution_count": null,
   "metadata": {},
   "outputs": [],
   "source": [
    "hostlist = saga.host_catalog.load(add_coord=False, include_stats=True)\n",
    "\n",
    "paper1_complete = saga.host_catalog.construct_host_query(\"paper1_complete\")\n",
    "paper1_observed = saga.host_catalog.construct_host_query(\"paper1_observed\")\n",
    "paper2_complete = saga.host_catalog.construct_host_query(\"paper2_complete\")\n",
    "paper2_observed = saga.host_catalog.construct_host_query(\"paper2_observed\")\n",
    "paper3_planned = QueryMaker.in1d(\"HOSTID\", hostlist[\"HOSTID\"][hostlist[\"really_need_spec\"].argsort()[:100]].tolist())"
   ]
  },
  {
   "cell_type": "code",
   "execution_count": null,
   "metadata": {},
   "outputs": [],
   "source": [
    "q = Query(C.basic_cut2, C.has_spec, \"SPEC_Z > 0.001\", paper2_complete, C.main_targeting_cuts)\n",
    "\n",
    "ratio_f = (q & C.is_sat & (~C.sdss_limit)).count(specs_2) / (q & (~C.sdss_limit)).count(specs_2) \n",
    "ratio_b = (q & C.is_sat & C.sdss_limit).count(specs_2) / (q & C.sdss_limit).count(specs_2)"
   ]
  },
  {
   "cell_type": "code",
   "execution_count": null,
   "metadata": {},
   "outputs": [],
   "source": [
    "X = []\n",
    "\n",
    "for i, sel in enumerate([paper1_complete, paper1_observed, paper2_complete, paper2_observed, paper3_planned]):\n",
    "    if i < 2:\n",
    "        clean_galaxy = Query(C.is_clean, C.is_galaxy, \"SPEC_Z > 0.001\")\n",
    "        specs = specs_1\n",
    "    else:\n",
    "        clean_galaxy = Query(C.is_clean2, C.is_galaxy2, \"SPEC_Z > 0.001\")\n",
    "        specs = specs_2\n",
    "    \n",
    "    if i == 4:\n",
    "        spec_funge = sel.filter(hostlist, \"really_need_spec\").sum() + (60 * sel.count(hostlist))\n",
    "        nb = sel.filter(hostlist, \"really_need_spec_bright\").sum()\n",
    "        nf = sel.filter(hostlist, \"really_need_spec\").sum() - nb\n",
    "        sat_funge = int((nb * ratio_b + nf * ratio_f))\n",
    "    else:\n",
    "        spec_funge = 0\n",
    "        sat_funge = 0\n",
    "        \n",
    "    X.append((\n",
    "        sel.count(hostlist),\n",
    "        Query(clean_galaxy, sel, C.has_our_specs_only).count(specs) + spec_funge,\n",
    "        Query(clean_galaxy, sel).count(specs) + spec_funge,\n",
    "        Query(clean_galaxy, sel, C.is_sat, C.has_our_specs_only, C.r_abs_limit).count(specs) + int(sat_funge*1.05),\n",
    "        Query(clean_galaxy, sel, C.is_sat, C.r_abs_limit).count(specs) + int(sat_funge*1.05),\n",
    "        Query(clean_galaxy, sel, C.is_sat, C.has_our_specs_only, ~C.r_abs_limit).count(specs),\n",
    "        Query(clean_galaxy, sel, C.is_sat, ~C.r_abs_limit).count(specs),\n",
    "    ))\n",
    "    \n",
    "X = np.array(X).T\n",
    "X"
   ]
  },
  {
   "cell_type": "code",
   "execution_count": null,
   "metadata": {},
   "outputs": [],
   "source": []
  }
 ],
 "metadata": {
  "kernelspec": {
   "display_name": "Python 3",
   "language": "python",
   "name": "python3"
  },
  "language_info": {
   "codemirror_mode": {
    "name": "ipython",
    "version": 3
   },
   "file_extension": ".py",
   "mimetype": "text/x-python",
   "name": "python",
   "nbconvert_exporter": "python",
   "pygments_lexer": "ipython3",
   "version": "3.7.6"
  }
 },
 "nbformat": 4,
 "nbformat_minor": 4
}

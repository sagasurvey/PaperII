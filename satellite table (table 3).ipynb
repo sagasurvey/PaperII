{
 "cells": [
  {
   "cell_type": "code",
   "execution_count": null,
   "metadata": {},
   "outputs": [],
   "source": [
    "import sys\n",
    "sys.path.insert(0, \"/home/yymao/Dropbox/Academia/Collaborations/SAGA-local/saga\")"
   ]
  },
  {
   "cell_type": "code",
   "execution_count": null,
   "metadata": {},
   "outputs": [],
   "source": [
    "import SAGA\n",
    "from easyquery import Query, QueryMaker\n",
    "from SAGA.database import FitsTable\n",
    "from SAGA import ObjectCuts as C\n",
    "from SAGA import HostCuts as H\n",
    "from astropy.table import join\n",
    "from SAGA.utils.distance import z2v"
   ]
  },
  {
   "cell_type": "code",
   "execution_count": null,
   "metadata": {},
   "outputs": [],
   "source": [
    "saga = SAGA.QuickStart()\n",
    "saga.set_default_base_version(\"paper2\")"
   ]
  },
  {
   "cell_type": "code",
   "execution_count": null,
   "metadata": {},
   "outputs": [],
   "source": [
    "sats = FitsTable(\"/home/yymao/Dropbox/Academia/Collaborations/SAGA/Temp/paper2-preliminary-data-products/saga_sats_latest.fits\").read()\n",
    "sats = Query(saga.host_catalog.construct_host_query(\"paper2_complete\")).filter(sats)"
   ]
  },
  {
   "cell_type": "code",
   "execution_count": null,
   "metadata": {},
   "outputs": [],
   "source": [
    "sats.sort([\"HOST_RA\", \"r_mag\"])"
   ]
  },
  {
   "cell_type": "code",
   "execution_count": null,
   "metadata": {},
   "outputs": [],
   "source": [
    "from SAGA.objects.cuts import _known_telnames as pre_exist_tel"
   ]
  },
  {
   "cell_type": "code",
   "execution_count": null,
   "metadata": {},
   "outputs": [],
   "source": [
    "pre_exist_tel"
   ]
  },
  {
   "cell_type": "code",
   "execution_count": null,
   "metadata": {},
   "outputs": [],
   "source": [
    "def format_tel(s):\n",
    "    s = s.split(\"+\")\n",
    "    if len(s) == 1:\n",
    "        return s[0]\n",
    "    exist = sorted(pre_exist_tel.intersection(s))\n",
    "    if not exist:\n",
    "        return sorted(s)[0] + \"+\"\n",
    "    \n",
    "    while exist:\n",
    "        if len(exist) == 1:\n",
    "            return exist[0]\n",
    "        if 'NSA' in exist:\n",
    "            exist.remove(\"NSA\")\n",
    "            continue\n",
    "        if 'GAMA' in exist:\n",
    "            exist.remove(\"GAMA\")\n",
    "            continue\n",
    "        if \"SDSS\" in exist:\n",
    "            return \"SDSS+\"\n",
    "        return sorted(exist)[0] + \"+\""
   ]
  },
  {
   "cell_type": "code",
   "execution_count": null,
   "metadata": {},
   "outputs": [],
   "source": [
    "def char_add(*args):\n",
    "    args_iter = iter(args)\n",
    "    a = next(args_iter)\n",
    "    for b in args_iter:\n",
    "        a = np.char.add(a, b)\n",
    "    return a"
   ]
  },
  {
   "cell_type": "code",
   "execution_count": null,
   "metadata": {},
   "outputs": [],
   "source": [
    "np.char.add(np.char.upper(sats[\"survey\"]), np.char.add(\"-\", sats[\"OBJID\"].astype(str)))"
   ]
  },
  {
   "cell_type": "code",
   "execution_count": null,
   "metadata": {},
   "outputs": [],
   "source": [
    "t = sats['HOST_COMMON_NAME', \"OBJID\", \"survey\", 'RA', \"DEC\", 'RHOST_KPC', 'SPEC_Z', \"HOST_VHOST\", 'r_mag', 'Mr', 'gr', 'sb_r', 'log_sm', \"SPEC_REPEAT\"]\n",
    "\n",
    "\n",
    "t[\"OBJID\"] = np.where(\n",
    "    t[\"survey\"] == \"sdss\", \n",
    "    t[\"OBJID\"], \n",
    "    np.where(\n",
    "        t[\"survey\"] == \"decals\", \n",
    "        char_add(\"LS-\", (sats[\"OBJID\"] // int(1e13)).astype(str), \"-\", (sats[\"OBJID\"] % int(1e13)).astype(str)),\n",
    "        char_add(np.char.upper(sats[\"survey\"]), \"-\", sats[\"OBJID\"].astype(str)),\n",
    "    ),\n",
    ")\n",
    "del t[\"survey\"]\n",
    "t[\"SPEC_REPEAT\"] = list(map(format_tel, t[\"SPEC_REPEAT\"]))\n",
    "t['RA'].format = '%.4f'\n",
    "t['DEC'].format = '%.4f'\n",
    "t['RHOST_KPC'].format = '%d'\n",
    "t[\"SPEC_Z\"] = z2v(t[\"SPEC_Z\"]) - t[\"HOST_VHOST\"]\n",
    "t[\"SPEC_Z\"].format = '%.d'\n",
    "del t[\"HOST_VHOST\"]\n",
    "t['r_mag'].format = '%.2f'\n",
    "t['Mr'].format = '%.1f'\n",
    "t['gr'].format = '%.2f'\n",
    "t['sb_r'].format = '%.2f'\n",
    "t['log_sm'].format = '%.1f'\n",
    "\n",
    "t.rename_column('HOST_COMMON_NAME', 'Host Name')\n",
    "t.rename_column('RA', 'R.A.')\n",
    "t.rename_column('DEC', 'Dec.')\n",
    "t.rename_column('SPEC_Z', '%\\Delta v$')\n",
    "t.rename_column('RHOST_KPC', '$d$')\n",
    "t.rename_column('r_mag', 'r_o')\n",
    "t.rename_column('Mr', r'M_{r,o}')\n",
    "t.rename_column('gr', r'(g-r)_o}$')\n",
    "t.rename_column('sb_r', r'\\mu_{\\mathrm{eff},r_o}$')\n",
    "t.rename_column('log_sm', r'M_*')\n",
    "t.rename_column('SPEC_REPEAT', 'Tel.')"
   ]
  },
  {
   "cell_type": "code",
   "execution_count": null,
   "metadata": {},
   "outputs": [],
   "source": [
    "print(len(t))"
   ]
  },
  {
   "cell_type": "code",
   "execution_count": null,
   "metadata": {},
   "outputs": [],
   "source": [
    "from io import StringIO\n",
    "o = StringIO()\n",
    "t.write(o, format=\"ascii.aastex\")\n",
    "print(o.getvalue())"
   ]
  },
  {
   "cell_type": "code",
   "execution_count": null,
   "metadata": {},
   "outputs": [],
   "source": []
  }
 ],
 "metadata": {
  "kernelspec": {
   "display_name": "Python 3",
   "language": "python",
   "name": "python3"
  },
  "language_info": {
   "codemirror_mode": {
    "name": "ipython",
    "version": 3
   },
   "file_extension": ".py",
   "mimetype": "text/x-python",
   "name": "python",
   "nbconvert_exporter": "python",
   "pygments_lexer": "ipython3",
   "version": "3.7.6"
  }
 },
 "nbformat": 4,
 "nbformat_minor": 4
}

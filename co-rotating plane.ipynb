{
 "cells": [
  {
   "cell_type": "code",
   "execution_count": null,
   "metadata": {},
   "outputs": [],
   "source": [
    "import numpy as np\n",
    "import matplotlib.pyplot as plt\n",
    "\n",
    "from itertools import combinations\n",
    "\n",
    "from astropy.table import Table\n",
    "from astropy.coordinates import SkyCoord, Distance\n",
    "from SAGA.utils import add_skycoord\n",
    "from easyquery import Query, QueryMaker\n",
    "\n",
    "import SAGA\n",
    "from SAGA.database import FitsTable\n",
    "from SAGA import ObjectCuts as C\n",
    "from SAGA.utils import add_skycoord\n",
    "from SAGA.utils.distance import z2v\n",
    "\n",
    "print(SAGA.__version__)"
   ]
  },
  {
   "cell_type": "code",
   "execution_count": null,
   "metadata": {},
   "outputs": [],
   "source": [
    "saga = SAGA.QuickStart()"
   ]
  },
  {
   "cell_type": "code",
   "execution_count": null,
   "metadata": {},
   "outputs": [],
   "source": [
    "# If you have base catalogs:\n",
    "# sats = C.is_sat.filter(saga.object_catalog.load_clean_specs())\n",
    "\n",
    "# Alternatively, use pre-compiled dataset:\n",
    "sats = FitsTable(\"https://www.dropbox.com/sh/7qeuqkq0c591k2g/AAC0c5C7erNCp0nYOhcDv9kva/saga_sats_latest.fits?dl=1\").read()"
   ]
  },
  {
   "cell_type": "code",
   "execution_count": null,
   "metadata": {},
   "outputs": [],
   "source": [
    "sats = Query(saga.host_catalog.construct_host_query(\"paper2_complete\"), C.faint_end_limit).filter(sats)\n",
    "sats = add_skycoord(sats)"
   ]
  },
  {
   "cell_type": "code",
   "execution_count": null,
   "metadata": {
    "jupyter": {
     "outputs_hidden": false
    }
   },
   "outputs": [],
   "source": [
    "X = []\n",
    "\n",
    "for sats_this in sats.group_by('HOSTID').groups:\n",
    "    if len(sats_this) < 2:\n",
    "        continue\n",
    "\n",
    "    host_this = str(sats_this['HOSTID'][0])\n",
    "    host_coord = SkyCoord(sats_this['HOST_RA'][0], sats_this['HOST_DEC'][0], unit=\"deg\")\n",
    "    \n",
    "    sep_deg = host_coord.position_angle(sats_this['coord']).degree\n",
    "    dv = z2v(sats_this['SPEC_Z']) - sats_this['HOST_VHOST']\n",
    "    \n",
    "    for i, j in combinations(range(len(sats_this)), 2):\n",
    "        X.append((host_this, sep_deg[i], sep_deg[j], dv[i], dv[j], 1000*sats_this[\"HOST_DIST\"][0]*sats_this['coord'][i].separation(sats_this['coord'][j]).radian))\n",
    "    \n",
    "X = Table(np.array(X, dtype=np.dtype([('HOSTID', '<U12'), ('pa1', np.float), ('pa2', np.float), ('dv1', np.float), ('dv2', np.float), ('sep', np.float)])))\n",
    "print(len(X))"
   ]
  },
  {
   "cell_type": "code",
   "execution_count": null,
   "metadata": {},
   "outputs": [],
   "source": [
    "X[\"sign\"] = np.sign(X[\"dv1\"]) * np.sign(X[\"dv2\"])\n",
    "dpa = np.abs(X[\"pa1\"] - X[\"pa2\"])\n",
    "X[\"opening_angle\"] = np.where(dpa < 180, 180-dpa, dpa-180)\n",
    "X[\"corotating\"] = np.where(X[\"opening_angle\"] < 90, X[\"sign\"] == -1, X[\"sign\"] == 1)"
   ]
  },
  {
   "cell_type": "code",
   "execution_count": null,
   "metadata": {
    "jupyter": {
     "outputs_hidden": false
    }
   },
   "outputs": [],
   "source": [
    "basic = Query('abs(dv1) > 30', 'abs(dv2) > 30')\n",
    "\n",
    "bins = np.linspace(0, 180, 13)\n",
    "hist_co = np.histogram(Query('corotating', basic).filter(X, 'opening_angle'), bins)[0]\n",
    "hist_all = np.histogram(Query(basic).filter(X, 'opening_angle'), bins)[0]\n",
    "\n",
    "p = hist_co/hist_all\n",
    "plt.errorbar((bins[1:]+bins[:-1])*0.5, p, yerr=np.sqrt(p*(1-p) / hist_all), marker='s', ls=':');\n",
    "\n",
    "\n",
    "bins = np.linspace(0, 180, 19)\n",
    "hist_co = np.histogram(Query('corotating', basic).filter(X, 'opening_angle'), bins)[0]\n",
    "hist_all = np.histogram(Query(basic).filter(X, 'opening_angle'), bins)[0]\n",
    "\n",
    "p = hist_co/hist_all\n",
    "plt.errorbar((bins[1:]+bins[:-1])*0.5, p, marker='', ls='-', alpha=0.2, c='C0');\n",
    "\n",
    "plt.xlim(0, 180.0);\n",
    "plt.axhline(0.5, c='grey', ls='--');\n",
    "plt.xlabel('Opening angle [deg]');\n",
    "plt.ylabel('Co-rotating Fraction')\n",
    "plt.ylim(-0.05, 1.05)\n",
    "plt.tight_layout()\n",
    "plt.savefig('/home/yymao/Downloads/sat_coroating_pairs.pdf', bbox_inches='tight')"
   ]
  },
  {
   "cell_type": "code",
   "execution_count": null,
   "metadata": {},
   "outputs": [],
   "source": [
    "fig, ax = plt.subplots(ncols=3, gridspec_kw={'wspace':0.1, 'width_ratios':(30,1,1)})\n",
    "t = Query('corotating', basic, 'abs(dv1-dv2) > 30').filter(X) \n",
    "CS = ax[0].scatter(t[\"opening_angle\"], t[\"sep\"], c=np.abs(t[\"dv1\"]-t[\"dv2\"]), vmin=0, vmax=400, cmap=\"Blues_r\", label=\"Co-rotating pair\")\n",
    "plt.colorbar(CS, ax[1])\n",
    "\n",
    "t = Query('corotating == 0', basic, 'abs(dv1-dv2) > 30').filter(X)\n",
    "CS = ax[0].scatter(t[\"opening_angle\"], t[\"sep\"], c=np.abs(t[\"dv1\"]-t[\"dv2\"]), vmin=0, vmax=400, cmap=\"Oranges_r\", label=\"Counter-rotating pair\")\n",
    "cbar = plt.colorbar(CS, ax[2])\n",
    "ax[1].set_yticklabels([])\n",
    "ax[2].set_xlabel(r\"$|\\Delta v|$ [km s$^{-1}$]\", fontsize='small')\n",
    "\n",
    "lgnd = ax[0].legend(markerfirst=False, scatterpoints=3, frameon=True)\n",
    "lgnd.legendHandles[0].set_color(plt.cm.Blues_r([0.2, 0.5, 0.7]))\n",
    "lgnd.legendHandles[1].set_color(plt.cm.Oranges_r([0.2, 0.5, 0.7]))\n",
    "ax[0].axvline(90, color=\"grey\", ls='--')\n",
    "ax[0].set_xlim(-5, 185.0);\n",
    "ax[0].set_xlabel('Opening angle [deg]');\n",
    "ax[0].set_ylabel('Projected separation [kpc]')\n",
    "ax[0].set_ylim(0, 600.0);"
   ]
  },
  {
   "cell_type": "code",
   "execution_count": null,
   "metadata": {},
   "outputs": [],
   "source": [
    "hist_all"
   ]
  },
  {
   "cell_type": "code",
   "execution_count": null,
   "metadata": {},
   "outputs": [],
   "source": [
    "hist_co"
   ]
  },
  {
   "cell_type": "code",
   "execution_count": null,
   "metadata": {},
   "outputs": [],
   "source": [
    "t = Query('corotating == 1', basic).filter(X)\n",
    "np.abs(t[\"dv1\"]-t[\"dv2\"]).max()"
   ]
  },
  {
   "cell_type": "code",
   "execution_count": null,
   "metadata": {},
   "outputs": [],
   "source": []
  }
 ],
 "metadata": {
  "anaconda-cloud": {},
  "kernelspec": {
   "display_name": "Python 3",
   "language": "python",
   "name": "python3"
  },
  "language_info": {
   "codemirror_mode": {
    "name": "ipython",
    "version": 3
   },
   "file_extension": ".py",
   "mimetype": "text/x-python",
   "name": "python",
   "nbconvert_exporter": "python",
   "pygments_lexer": "ipython3",
   "version": "3.7.6"
  }
 },
 "nbformat": 4,
 "nbformat_minor": 4
}

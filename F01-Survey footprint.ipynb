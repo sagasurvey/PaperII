{
 "cells": [
  {
   "cell_type": "code",
   "execution_count": null,
   "metadata": {},
   "outputs": [],
   "source": [
    "import os\n",
    "from astropy import table\n",
    "from astropy.table import Table,vstack\n",
    "from astropy.io import ascii\n",
    "import astropy.constants\n",
    "from astropy.coordinates import SkyCoord\n",
    "import astropy.units as u\n",
    "import SAGA\n",
    "from easyquery import *\n",
    "from SAGA import HostCuts as H"
   ]
  },
  {
   "cell_type": "code",
   "execution_count": null,
   "metadata": {},
   "outputs": [],
   "source": [
    "saga = SAGA.QuickStart()\n",
    "saga.set_default_base_version(\"paper2\")"
   ]
  },
  {
   "cell_type": "code",
   "execution_count": null,
   "metadata": {},
   "outputs": [],
   "source": [
    "all_hosts = saga.host_catalog.load(query='good_hosts', include_stats=True)"
   ]
  },
  {
   "cell_type": "code",
   "execution_count": null,
   "metadata": {},
   "outputs": [],
   "source": [
    "assert len(all_hosts) == 205\n",
    "assert H.paper1_complete.count(all_hosts) == 8\n",
    "assert H.paper2_complete.count(all_hosts) == 36\n",
    "assert H.good.count(all_hosts) == 115"
   ]
  },
  {
   "cell_type": "code",
   "execution_count": null,
   "metadata": {},
   "outputs": [],
   "source": [
    "has_ls = Query(\"COVERAGE_DECALS_DR6 >= 0.99\") | \"COVERAGE_DECALS_DR7 >= 0.99\"\n",
    "has_des = Query(\"COVERAGE_DES_DR1 >= 0.99\")\n",
    "has_sdss = Query(\"COVERAGE_SDSS >= 0.99\")\n",
    "has_any = (has_ls | has_des | has_sdss)\n",
    "\n",
    "assert (has_any | (~H.good)).mask(all_hosts).all()"
   ]
  },
  {
   "cell_type": "code",
   "execution_count": null,
   "metadata": {},
   "outputs": [],
   "source": [
    "# CONVERT RA/DEC TO RADIANS FOR PLOTTING\n",
    "def convert_radec2radian(RA,Dec,origin=0):\n",
    " \n",
    "    x = np.remainder(RA+360-origin,360) # shift RA values\n",
    "    ind = x>180\n",
    "    x[ind] -=360    # scale conversion to [-180, 180]\n",
    "    x=-x           # reverse the scale: East to the left\n",
    "\n",
    "    xrad = np.radians(x)\n",
    "    yrad = np.radians(Dec)\n",
    "    \n",
    "    return xrad,yrad"
   ]
  },
  {
   "cell_type": "code",
   "execution_count": null,
   "metadata": {},
   "outputs": [],
   "source": [
    "# DEFINE GALACTIC PLANE\n",
    "glat = np.arange(0,360,1)*u.degree+218.*u.degree\n",
    "glon = np.zeros(np.size(glat))*u.degree\n",
    "c = SkyCoord(l=glat,b=glon,frame='galactic')\n",
    "gplane = c.transform_to('icrs')  "
   ]
  },
  {
   "cell_type": "code",
   "execution_count": null,
   "metadata": {},
   "outputs": [],
   "source": [
    "origin = 285.\n",
    "fig=plt.figure(figsize=(17,10))\n",
    "plt.rcParams.update({'font.size': 18})\n",
    "plt.rcParams.update({'legend.fontsize': 18})\n",
    "\n",
    "ax = fig.add_subplot(111, projection='mollweide')#,projection = 'hammer')\n",
    "tick_labels = np.array([150, 120, 90, 60, 30, 0, 330, 300, 270, 240, 210])\n",
    "tick_labels = np.remainder(tick_labels+360+origin,360)\n",
    "\n",
    "\n",
    "def add_points(*queries, **plot_options):\n",
    "    t = Query(*queries).filter(all_hosts)\n",
    "    if \"label\" in plot_options:\n",
    "        plot_options[\"label\"] = plot_options[\"label\"].format(len(t))\n",
    "    xh, yh = convert_radec2radian(t['RA'], t['DEC'], origin=origin)\n",
    "    ax.scatter(xh, yh, **plot_options)\n",
    "\n",
    "# GOOD POTENTIAL HOSTS\n",
    "add_points(~has_any, s=95, facecolors='none', edgecolors='k', label='Imaging not yet available')\n",
    "\n",
    "# GOOD HOSTS W/IMAGING\n",
    "add_points(H.good, has_sdss, s=95, facecolors='y', edgecolors='k', alpha=0.7, label='SDSS imaging')\n",
    "add_points(H.good, has_ls,   s=95, facecolors='g', edgecolors='k', alpha=0.7, label='LS DR6/7 imaging')\n",
    "add_points(H.good, has_des,  s=95, facecolors='b', edgecolors='k', alpha=0.5, label='DES DR1 imaging')\n",
    "\n",
    "# COMPLETE HOSTS\n",
    "add_points(H.paper2_complete, ~H.paper1_complete, s=140, marker='s', facecolors='r', edgecolors='k', alpha=0.99, label='Newly Complete Host ({})')\n",
    "add_points(H.paper1_complete, s=140, marker='s', facecolors='orange', edgecolors='k', alpha=0.99, label='Paper I Complete ({})')\n",
    "\n",
    "# PLOT GALAXY PLANE\n",
    "xg,yg = convert_radec2radian(gplane.ra.degree,gplane.dec.degree,origin=origin)\n",
    "ax.plot(xg,yg,'k',label='Galactic Plane')\n",
    "ax.grid(True)\n",
    "\n",
    "lg = ax.legend(loc=\"lower left\", markerscale=1.05, bbox_to_anchor=(0.9, -0.03),title=r'$\\bf{SAGA\\,\\,Milky\\,\\,Way\\,\\,Analogs}$', frameon=True)\n",
    "ax.set_xticklabels(tick_labels.astype(int)) \n",
    "          \n",
    "lg.get_title().set_position((-20, 0)) # -10 is a guess\n",
    "#plt.tight_layout()\n",
    "plt.savefig('/home/yymao/Downloads/figure_hosts.pdf', bbox_inches=\"tight\")\n",
    "\n",
    "plt.show()"
   ]
  },
  {
   "cell_type": "code",
   "execution_count": null,
   "metadata": {},
   "outputs": [],
   "source": []
  }
 ],
 "metadata": {
  "kernelspec": {
   "display_name": "Python 3",
   "language": "python",
   "name": "python3"
  },
  "language_info": {
   "codemirror_mode": {
    "name": "ipython",
    "version": 3
   },
   "file_extension": ".py",
   "mimetype": "text/x-python",
   "name": "python",
   "nbconvert_exporter": "python",
   "pygments_lexer": "ipython3",
   "version": "3.7.8"
  }
 },
 "nbformat": 4,
 "nbformat_minor": 4
}

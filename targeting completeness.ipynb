{
 "cells": [
  {
   "cell_type": "code",
   "execution_count": null,
   "metadata": {},
   "outputs": [],
   "source": [
    "import sys\n",
    "sys.path.insert(0, \"/home/yymao/Dropbox/Academia/Collaborations/SAGA-local/saga\")"
   ]
  },
  {
   "cell_type": "code",
   "execution_count": null,
   "metadata": {},
   "outputs": [],
   "source": [
    "import SAGA\n",
    "print(SAGA.__version__)\n",
    "\n",
    "from SAGA import ObjectCuts as C\n",
    "from easyquery import *\n",
    "from SAGA.utils import *\n",
    "from SAGA.targets import add_cut_scores\n",
    "from SAGA.objects.object_catalog import calc_fiducial_p_sat\n",
    "from astropy.table import vstack, Table, join\n",
    "from astropy.coordinates import Distance\n",
    "\n",
    "import numexpr as ne\n",
    "from scipy.stats import binned_statistic\n",
    "from scipy.stats import iqr"
   ]
  },
  {
   "cell_type": "code",
   "execution_count": null,
   "metadata": {},
   "outputs": [],
   "source": [
    "from statsmodels.discrete.discrete_model import Logit\n",
    "\n",
    "class MyModel(Logit):\n",
    "    def __init__(self, endog, exog, **kwargs):\n",
    "        self._max_value = float(kwargs.get(\"max_value\", 1))\n",
    "        if not (self._max_value > 0 and self._max_value <= 1):\n",
    "            raise ValueError\n",
    "        super(MyModel, self).__init__(endog, exog, **kwargs)\n",
    "        \n",
    "    def _Lambda(self, X):\n",
    "        return \n",
    "        \n",
    "    def cdf(self, X):\n",
    "        return self._max_value * super(MyModel, self).cdf(X)\n",
    "    \n",
    "    def pdf(self, X):\n",
    "        return self._max_value * super(MyModel, self).pdf(X)\n",
    "    \n",
    "    def loglike(self, params):\n",
    "        return np.sum(self.loglikeobs(params))\n",
    "        \n",
    "    def loglikeobs(self, params):\n",
    "        y = self.endog\n",
    "        X = self.exog\n",
    "        L = self.cdf(np.dot(X, params))\n",
    "        return np.log(L) * y + np.log1p(-L) * (1-y)\n",
    "    \n",
    "    def hessian(self, params):\n",
    "        X = self.exog\n",
    "        L = super(MyModel, self).cdf(np.dot(X,params))\n",
    "        return -np.dot(self._max_value*L*(1-L)*X.T,X)"
   ]
  },
  {
   "cell_type": "code",
   "execution_count": null,
   "metadata": {},
   "outputs": [],
   "source": [
    "def generate_label_arr(data, valid_query, *value_setters):\n",
    "    \n",
    "    label_arr = np.empty(len(data))\n",
    "    label_arr.fill(-1.0)\n",
    "    label_arr[Query(valid_query).mask(data)] = 0\n",
    "\n",
    "    for q, setter in value_setters:\n",
    "        q_this = Query(valid_query, q)\n",
    "        if callable(setter):\n",
    "            value = setter(q_this.filter(data))\n",
    "        else:\n",
    "            value = setter\n",
    "        label_arr[q_this.mask(data)] = value\n",
    "    \n",
    "    return label_arr\n",
    "\n",
    "class LogitFit:\n",
    "    def __init__(self, data, label_arr, feature_cols=(\"r_mag\", \"sb_r\", \"gr\"), max_prob=1, add_prob_column=None, silent=False):\n",
    "        valid_label_mask = (label_arr >= 0) & (label_arr <= 1)       \n",
    "        self._feature_cols = list(feature_cols)\n",
    "        feature_arr = get_feature_array(data, self._feature_cols, True)\n",
    "        logit_mod = MyModel(label_arr[valid_label_mask], feature_arr[valid_label_mask], max_value=max_prob)\n",
    "        self.logit_res = logit_mod.fit(disp=False)\n",
    "        if add_prob_column:\n",
    "            if add_prob_column is True:\n",
    "                add_prob_column = \"p_sat\"\n",
    "            data[add_prob_column] = self.calc_prob(feature_arr, False)\n",
    "        if not silent:\n",
    "            display(self.logit_res.summary())\n",
    "\n",
    "    def calc_prob(self, data, convert_arr_format=True):\n",
    "        feature_arr = get_feature_array(data, self._feature_cols, True) if convert_arr_format else data\n",
    "        return self.logit_res.predict(feature_arr)"
   ]
  },
  {
   "cell_type": "code",
   "execution_count": null,
   "metadata": {},
   "outputs": [],
   "source": [
    "saga = SAGA.QuickStart()"
   ]
  },
  {
   "cell_type": "code",
   "execution_count": null,
   "metadata": {},
   "outputs": [],
   "source": [
    "base = SAGA.database.FitsTable(\"/home/yymao/Downloads/saga_base_all.fits\").read()\n",
    "hosts = np.unique(base[\"HOSTID\"])\n",
    "print(len(hosts))"
   ]
  },
  {
   "cell_type": "code",
   "execution_count": null,
   "metadata": {},
   "outputs": [],
   "source": [
    "def get_feature_array(table, cols, add_constant=False):\n",
    "    data = [table[col].astype(np.float64) for col in cols]\n",
    "    if add_constant:\n",
    "        data.append(np.ones(len(table), dtype=np.float64))\n",
    "    return np.vstack(data).T "
   ]
  },
  {
   "cell_type": "code",
   "execution_count": null,
   "metadata": {},
   "outputs": [],
   "source": [
    "base = add_cut_scores(base)\n",
    "base['Mr_est'] = base['r_mag'] - Distance(base['HOST_DIST'][0], unit=\"Mpc\").distmod.value"
   ]
  },
  {
   "cell_type": "code",
   "execution_count": null,
   "metadata": {},
   "outputs": [],
   "source": [
    "base[\"gr_c\"] = np.where(\n",
    "    C.valid_g_mag.mask(base), \n",
    "    base[\"gr\"],\n",
    "    np.where(\n",
    "        C.valid_i_mag.mask(base), \n",
    "        base[\"ri\"]+0.1, \n",
    "        np.where(C.valid_z_mag.mask(base), base[\"rz\"]+0.2, 0.92-0.03*base[\"r_mag\"]),\n",
    "    ),\n",
    ")\n",
    "\n",
    "base[\"sb_c\"] = np.where(\n",
    "    C.valid_sb.mask(base), \n",
    "    base[\"sb_r\"],\n",
    "    20+0.6*(base[\"r_mag\"]-14),\n",
    ")"
   ]
  },
  {
   "cell_type": "code",
   "execution_count": null,
   "metadata": {},
   "outputs": [],
   "source": [
    "HostQuery = saga.host_catalog.construct_host_query"
   ]
  },
  {
   "cell_type": "code",
   "execution_count": null,
   "metadata": {},
   "outputs": [],
   "source": [
    "sup = np.testing.suppress_warnings()\n",
    "sup.filter(message=\"invalid value encountered in true_divide\")  # module must match exactly\n",
    "\n",
    "@sup\n",
    "def plot_prob_hist(ax, data, col_x, bins, additonal_label=None, label_query=C.is_sat):\n",
    "    ys = [label_query.mask(data), np.ones(len(data), dtype=np.int), (data['p_sat'] if 'p_sat' in data.colnames else np.zeros(len(data)))]\n",
    "    s = binned_statistic(data[col_x], ys, bins=bins, statistic='sum')\n",
    "    \n",
    "    dn = np.where(s.statistic[1], s.statistic[1], 1)\n",
    "    p = s.statistic[0] / dn\n",
    "    e = np.maximum(np.sqrt(s.statistic[0] * (s.statistic[1] - s.statistic[0])), 1) * 0.84 / (dn**1.5)\n",
    "    eh = np.where(e+p <= 1, e, 1-p)\n",
    "    el = np.where(p-e >= 0, e, p)\n",
    "    x = (s.bin_edges[1:] + s.bin_edges[:-1]) * 0.5\n",
    "    \n",
    "    ax.bar(x, p, s.bin_edges[1:] - s.bin_edges[:-1], alpha=0.6, color='C0');\n",
    "    ax.errorbar(x, p, [el, eh], ls='', c='C0');\n",
    "    \n",
    "    if 'p_sat' in data.colnames:\n",
    "        ax.plot(x, s.statistic[2] / s.statistic[1], c='C1')\n",
    "    ax.set_xlabel(col_x + (\", {}\".format(additonal_label) if additonal_label else \"\"))\n",
    "    \n",
    "    ax.set_ylim(0, max(np.nanmax(s.statistic[2] / s.statistic[1]), np.nanmax(p))*1.1)"
   ]
  },
  {
   "cell_type": "code",
   "execution_count": null,
   "metadata": {},
   "outputs": [],
   "source": [
    "valid = Query(\n",
    "    HostQuery(\"really_need_spec < 20\"), \n",
    "    \"r_mag > 12.15\", \n",
    "    C.faint_end_limit, \n",
    "    C.high_priority_cuts, \n",
    "    Query(C.has_spec, \"SPEC_Z >= 0.003\") | (~C.has_spec),\n",
    ")"
   ]
  },
  {
   "cell_type": "code",
   "execution_count": null,
   "metadata": {},
   "outputs": [],
   "source": [
    "prob_sat_collect = []\n",
    "params = []\n",
    "\n",
    "feature_cols = (\"r_mag\", \"sb_c\", \"gr_c\")\n",
    "valid_base = valid.filter(base, list(feature_cols) + [\"SATS\"])\n",
    "n_valid = len(valid_base)\n",
    "\n",
    "for i in range(1000):\n",
    "    base_this = valid_base[np.random.randint(n_valid, size=n_valid)]\n",
    "    model_sat = LogitFit(\n",
    "        base_this, \n",
    "        generate_label_arr(\n",
    "            base_this, \n",
    "            Query(),\n",
    "            (C.is_sat, 1),\n",
    "        ), \n",
    "        max_prob=0.5,\n",
    "        feature_cols=feature_cols,\n",
    "        add_prob_column=False,\n",
    "        silent=True,\n",
    "    )\n",
    "    params.append(model_sat.logit_res.params.copy())\n",
    "    prob_sat_collect.append(model_sat.calc_prob(base))\n",
    "\n",
    "prob_sat_collect = np.array(prob_sat_collect)\n",
    "\n",
    "base[\"p_sat_med\"] = np.median(prob_sat_collect, axis=0)\n",
    "base[\"p_sat_mean\"] = np.mean(prob_sat_collect, axis=0)\n",
    "base[\"p_sat_iqr\"] = iqr(prob_sat_collect, axis=0, scale=\"normal\")\n",
    "base[\"p_sat_std\"] = np.std(prob_sat_collect, axis=0, ddof=1)\n",
    "\n",
    "base[\"p_sat\"] = base[\"p_sat_med\"]\n",
    "base[\"p_sat_err\"] = base[\"p_sat_iqr\"]"
   ]
  },
  {
   "cell_type": "code",
   "execution_count": null,
   "metadata": {},
   "outputs": [],
   "source": [
    "from scipy.stats import norm\n",
    "base[\"p_sat_84\"], base[\"p_sat_16\"] = np.percentile(prob_sat_collect, norm.sf([-1, 1])*100.0, axis=0)"
   ]
  },
  {
   "cell_type": "code",
   "execution_count": null,
   "metadata": {},
   "outputs": [],
   "source": [
    "params = np.array(params)\n",
    "params.mean(axis=0), np.median(params, axis=0)"
   ]
  },
  {
   "cell_type": "code",
   "execution_count": null,
   "metadata": {},
   "outputs": [],
   "source": [
    "plt.scatter(params[:,2], params[:,3], s=3)\n",
    "mask = (np.abs(params[:,0] + 1.68) < 0.04) & (np.abs(params[:,1] - 1.25) < 0.04) & (np.abs(params[:,2] + 5.5) < 0.05)\n",
    "plt.scatter(params[mask,2], params[mask,3], s=3)\n",
    "print(np.median(params[mask,:], axis=0))\n",
    "#plt.xlim(-3, -0.5)\n",
    "#plt.ylim(-10, 0)"
   ]
  },
  {
   "cell_type": "code",
   "execution_count": null,
   "metadata": {},
   "outputs": [],
   "source": [
    "X = []\n",
    "for hostid in hosts:\n",
    "    t = QueryMaker.equals(\"HOSTID\", hostid).filter(base)\n",
    "    t1 = Query(C.high_priority_cuts, C.faint_end_limit, ~C.has_spec).filter(t)\n",
    "    X.append((\n",
    "        hostid,\n",
    "        Query(C.is_sat, C.faint_end_limit).count(t),\n",
    "        Query(C.has_spec, C.faint_end_limit).filter(t, \"p_sat_med\").sum(),\n",
    "        len(t1),\n",
    "        t1[\"p_sat_approx\"].sum(),\n",
    "        t1[\"p_sat_med\"].sum(),\n",
    "        t1[\"p_sat_84\"].sum(),\n",
    "        t1[\"p_sat_16\"].sum(),\n",
    "    ))\n",
    "\n",
    "X = Table(np.array(X, np.dtype([\n",
    "    ('HOSTID', '<U10'), \n",
    "    ('sats_r_limit', np.int), \n",
    "    ('sats_r_limit_pred', np.float),\n",
    "    ('really_need_spec', np.int), \n",
    "    ('sats_missed_approx', np.float),\n",
    "    ('sats_missed_pred', np.float),\n",
    "    ('sats_missed_84', np.float),\n",
    "    ('sats_missed_16', np.float),\n",
    "])))\n",
    "\n",
    "X.write(\"/home/yymao/Downloads/saga_sat_prob.csv\", overwrite=True)"
   ]
  },
  {
   "cell_type": "code",
   "execution_count": null,
   "metadata": {},
   "outputs": [],
   "source": [
    "plt.errorbar(X[\"sats_missed_approx\"], X[\"sats_missed_pred\"], yerr=[X[\"sats_missed_pred\"]-X[\"sats_missed_16\"], X[\"sats_missed_84\"]-X[\"sats_missed_pred\"]], marker='.', ls='')\n",
    "plt.loglog([0.005, 3], [0.005, 3], lw=1)\n",
    "plt.axvline(0.32, c='grey', lw=1)\n",
    "plt.axhline(0.35, c='grey', lw=1)\n"
   ]
  },
  {
   "cell_type": "code",
   "execution_count": null,
   "metadata": {},
   "outputs": [],
   "source": [
    "X = X[np.lexsort([X[\"sats_missed_pred\"], X[\"really_need_spec\"]])]"
   ]
  },
  {
   "cell_type": "code",
   "execution_count": null,
   "metadata": {},
   "outputs": [],
   "source": [
    "dx = np.ones(len(X))\n",
    "dx -= 0.01\n",
    "dx[::2] += 0.02\n",
    "X[\"really_need_spec_dx\"] = np.maximum(X[\"really_need_spec\"], 1) * dx"
   ]
  },
  {
   "cell_type": "code",
   "execution_count": null,
   "metadata": {},
   "outputs": [],
   "source": [
    "plt.figure(figsize=(5, 4))\n",
    "\n",
    "p_cut = 0.35\n",
    "n_cut = 35.5\n",
    "\n",
    "complete_def_approx = saga.paper2_complete\n",
    "complete_def = Query(f\"sats_missed_84 < {p_cut}\", f\"really_need_spec < {n_cut}\")\n",
    "p1_complete= HostQuery(\"paper1_complete\")\n",
    "#complete_def=complete_def_approx\n",
    "\n",
    "#assert set(complete_def_approx.filter(X, \"HOSTID\")) == set(complete_def.filter(X, \"HOSTID\"))\n",
    "assert Query(p1_complete, ~complete_def).count(X) == 0\n",
    "\n",
    "for q, color, label in (\n",
    "    (~complete_def, 'C0', \"Hosts to be completed\"),\n",
    "    (Query(complete_def, ~p1_complete), 'C1', 'Newly complete hosts ({})'),\n",
    "    (Query(p1_complete), 'C3', 'Paper I complete hosts ({})'),\n",
    "):\n",
    "    X1 = q.filter(X)\n",
    "    plt.errorbar(X1[\"really_need_spec_dx\"], X1[\"sats_missed_pred\"], \n",
    "                 yerr=[X1[\"sats_missed_pred\"]-X1[\"sats_missed_16\"], X1[\"sats_missed_84\"]-X1[\"sats_missed_pred\"]], marker='o', ls='', \n",
    "                 label=label.format(len(X1)), ms=3, alpha=0.85, color=color)\n",
    "    #plt.plot(X1[\"really_need_spec_dx\"], X1[\"sats_missed_approx\"], marker='x', ls='', ms=3, alpha=0.85, color=color)\n",
    "\n",
    "\n",
    "plt.axhline(p_cut, lw=1, ls=\"--\", c='grey')\n",
    "plt.axvline(n_cut, lw=1, ls=\"--\", c='grey')\n",
    "\n",
    "plt.legend(loc=\"lower right\", markerfirst=False, handletextpad=-0.25, bbox_to_anchor=(1.07, -0.02))\n",
    "plt.xscale(\"symlog\", linthreshx=100, subsx=[2,3,4,5,6,7,8,9], linscalex=np.log10(20))\n",
    "plt.xscale(\"log\")\n",
    "plt.xlim(1, None)\n",
    "plt.yscale(\"log\")\n",
    "plt.xlabel(\"Number of targets without redshift\")\n",
    "plt.ylabel(\"Expected number of satellites\\nmissed in incomplete targets\")\n",
    "\n",
    "plt.tight_layout()\n",
    "plt.savefig(\"/home/yymao/Downloads/host_completeness_def.pdf\")"
   ]
  },
  {
   "cell_type": "code",
   "execution_count": null,
   "metadata": {},
   "outputs": [],
   "source": [
    "complete_def.filter(X, \"sats_missed_84\").sum()"
   ]
  },
  {
   "cell_type": "code",
   "execution_count": null,
   "metadata": {},
   "outputs": [],
   "source": [
    "hid = Query(f\"sats_missed_84 >= {p_cut}\", f\"really_need_spec < {n_cut}\").filter(X, \"HOSTID\")\n",
    "Query(QueryMaker.in1d(\"HOSTID\", hid), ~C.has_spec, \"p_sat_med > 0.05\", C.basic_cut2, C.high_priority_cuts).filter(base, [\"OBJID\", \"RA\", \"DEC\", \"HOSTID\", \"r_mag\", \"p_sat_med\", \"p_sat_approx\"])"
   ]
  },
  {
   "cell_type": "code",
   "execution_count": null,
   "metadata": {},
   "outputs": [],
   "source": [
    "hid = complete_def.filter(X, \"HOSTID\")\n",
    "sats_gr = Query('Mr_est < -12.3', C.basic_cut2, C.valid_g_mag, (C.is_sat | Query(\"p_sat_approx > 0.1\", ~C.has_spec)), QueryMaker.in1d(\"HOSTID\", hid)).filter(base)\n",
    "sats_gr.sort('RHOST_KPC')\n",
    "rbins = np.linspace(0, 300, 5)\n",
    "\n",
    "bin_ed = np.searchsorted(sats_gr['RHOST_KPC'], rbins)\n",
    "gr = np.array([np.percentile((sats_gr['gr'][i:j]), [16, 50, 84]) for i, j in zip(bin_ed[:-1], bin_ed[1:])])\n",
    "\n",
    "sats_gr_real = C.is_sat.filter(sats_gr)\n",
    "plt.errorbar(sats_gr_real['RHOST_KPC'], sats_gr_real['gr'], sats_gr_real['gr_err'], marker='o', ls='', ms=6, mec='None', label='SAGA satellites')\n",
    "\n",
    "sats_gr_maybe = (~C.is_sat).filter(sats_gr)\n",
    "plt.errorbar(sats_gr_maybe['RHOST_KPC'], sats_gr_maybe['gr'], sats_gr_maybe['gr_err'], marker='o', ls='', ms=6, mec='None', alpha=0.4, label='maybe satellites')\n",
    "\n",
    "plt.errorbar(0.5*(rbins[:-1]+rbins[1:]), gr[:,1], (gr[:,1]-gr[:,0], gr[:,2]-gr[:,1]), ls='-', c='C2', marker='', lw=3, alpha=0.5, label='median')\n",
    "plt.ylabel(r'$(g-r)_o$')\n",
    "plt.xlabel(r'$d_{\\rm proj}$ [kpc]')\n",
    "plt.xlim(0, 305)\n",
    "plt.ylim(0, 1)\n",
    "plt.legend(frameon=True)\n",
    "#plt.yscale('log')\n",
    "#plt.axhline(0, c='k', lw=0.5)\n",
    "plt.tight_layout()\n",
    "#plt.savefig('/home/yymao/Downloads/sat_ew.pdf', bbox_inches='tight')"
   ]
  },
  {
   "cell_type": "code",
   "execution_count": null,
   "metadata": {},
   "outputs": [],
   "source": [
    "hid = complete_def.filter(X, \"HOSTID\")\n",
    "fig, ax = plt.subplots(nrows=5, ncols=3, figsize=(12, 15))\n",
    "ax = ax.flatten()\n",
    "base[\"p_sat\"] = base[\"p_sat_approx\"]\n",
    "data = Query(C.has_spec, QueryMaker.in1d(\"HOSTID\", hid)).filter(base)\n",
    "\n",
    "plot_prob_hist(ax[0], data, 'r_mag', np.linspace(12.5, 20.75, 11))\n",
    "plot_prob_hist(ax[1], data, 'sb_r', np.linspace(19, 25, 11))\n",
    "plot_prob_hist(ax[2], data, 'gr', np.linspace(0.1, 0.9, 11))\n",
    "plot_prob_hist(ax[3], data, 'score_sb_r', np.linspace(17.5, 22.5, 11))\n",
    "plot_prob_hist(ax[4], data, 'score_gr_r', np.linspace(0.1, 1, 11))\n",
    "plot_prob_hist(ax[5], data, 'p_sat', np.linspace(0, 0.5, 11))\n",
    "\n",
    "plot_prob_hist(ax[6], data, 'score_ri_r', np.linspace(-0.05, 0.7, 11))\n",
    "plot_prob_hist(ax[7], data, 'score_rz_r', np.linspace(-0.25, 1, 11))\n",
    "plot_prob_hist(ax[8], data, 'ug', np.linspace(0.5, 2, 11))\n",
    "\n",
    "data_ = Query(\"r_mag < 17.7\").filter(data)\n",
    "plot_prob_hist(ax[9], data_, 'p_sat', np.linspace(0, 0.5, 11), \"r < 17.7\")\n",
    "plot_prob_hist(ax[10], data_, 'sb_r', np.linspace(19, 25, 11), \"r < 17.7\")\n",
    "plot_prob_hist(ax[11], data_, 'gr', np.linspace(0.1, 0.9, 11), \"r < 17.7\")\n",
    "\n",
    "data_ = Query(\"r_mag >= 17.7\").filter(data)\n",
    "plot_prob_hist(ax[12], data_, 'p_sat', np.linspace(0, 0.5, 11), \"r >= 17.7\")\n",
    "plot_prob_hist(ax[13], data_, 'sb_r', np.linspace(19, 25, 11), \"r >= 17.7\")\n",
    "plot_prob_hist(ax[14], data_, 'gr', np.linspace(0.1, 0.9, 11), \"r >= 17.7\")\n",
    "\n",
    "fig.tight_layout()"
   ]
  },
  {
   "cell_type": "code",
   "execution_count": null,
   "metadata": {},
   "outputs": [],
   "source": [
    "fig, ax = plt.subplots(ncols=2, figsize=(10.5,4))\n",
    "\n",
    "for ax_this in ax:\n",
    "    ax_this.set_xlim(12, 21)\n",
    "    ax_this.set_xlabel(r\"$r_o$\")\n",
    "ax[0].set_ylabel(r\"$\\mu_{r_o, {\\rm eff}}$\")\n",
    "ax[1].set_ylabel(r\"$(g-r)_o$\")\n",
    "\n",
    "cut = Query(C.faint_end_limit, C.high_priority_cuts)\n",
    "t = Query(~cut).filter(base)\n",
    "ax[0].scatter(t[\"r_mag\"], t[\"sb_c\"], c='grey', s=0.1, lw=0, rasterized=True, label=\"Non-target galaxies\")\n",
    "ax[1].scatter(t[\"r_mag\"], t[\"gr_c\"], c='grey', s=0.1, lw=0, rasterized=True, label=\"Non-target galaxies\")\n",
    "\n",
    "\n",
    "t = Query(cut, ~C.has_spec).filter(base)\n",
    "t.sort(\"p_sat\")\n",
    "cs = ax[0].scatter(t[\"r_mag\"], t[\"sb_c\"], c=np.log10(t[\"p_sat\"]), s=10, lw=0, cmap=\"winter_r\", vmin=-3, vmax=np.log10(0.5), rasterized=True, alpha=0.85, label=\"Target galaxies\", marker='X')\n",
    "ax[1].scatter(t[\"r_mag\"], t[\"gr_c\"], c=np.log10(t[\"p_sat\"]), s=10, lw=0, cmap=\"winter\", vmin=-3, vmax=np.log10(0.5), rasterized=True, alpha=0.8, label=\"Targets (no redshift)\", marker='X')\n",
    "\n",
    "\n",
    "t = Query(cut, C.has_spec).filter(base)\n",
    "t.sort(\"p_sat\")\n",
    "cs = ax[0].scatter(t[\"r_mag\"], t[\"sb_c\"], c=np.log10(t[\"p_sat\"]), s=7, lw=0, cmap=\"winter\", vmin=-3, vmax=np.log10(0.5), rasterized=True, alpha=0.85, label=\"Target galaxies\")\n",
    "ax[1].scatter(t[\"r_mag\"], t[\"gr_c\"], c=np.log10(t[\"p_sat\"]), s=7, lw=0, cmap=\"winter\", vmin=-3, vmax=np.log10(0.5), rasterized=True, alpha=0.8, label=\"Targets (w/ redshift)\")\n",
    "\n",
    "\n",
    "#ax[0].plot([14, 21], [14*0.6+12, 21*0.6+12])\n",
    "#ax[0].axhline(24.75)\n",
    "#ax[0].axvline(17.77)\n",
    "\n",
    "lgnd = ax[1].legend(loc=\"upper left\", scatterpoints=3, frameon=True)\n",
    "lgnd.legendHandles[0]._sizes = [10]\n",
    "lgnd.legendHandles[1]._sizes = [25]\n",
    "lgnd.legendHandles[2]._sizes = [20]\n",
    "lgnd.legendHandles[1].set_color(plt.cm.winter([0.8, 0.5, 0.2]))\n",
    "lgnd.legendHandles[2].set_color(plt.cm.winter([0.8, 0.5, 0.2]))\n",
    "ax[0].set_ylim(16, 26)\n",
    "ax[1].set_ylim(-0.3, 2)\n",
    "fig.tight_layout()\n",
    "\n",
    "cbar = fig.colorbar(cs, ax=ax, pad=0.01, ticks=np.log10([0.001, 0.01, 0.1, 0.5]))\n",
    "cbar.ax.set_yticklabels(['$< 10^{-3}$', '$0.01$', '$0.1$', '$0.5$']) \n",
    "cbar.ax.set_xlabel(r\"  $p_{\\rm sat}$\")\n",
    "plt.savefig('/home/yymao/Downloads/sat-prob.pdf', dpi=200)"
   ]
  },
  {
   "cell_type": "code",
   "execution_count": null,
   "metadata": {},
   "outputs": [],
   "source": []
  }
 ],
 "metadata": {
  "kernelspec": {
   "display_name": "Python 3",
   "language": "python",
   "name": "python3"
  },
  "language_info": {
   "codemirror_mode": {
    "name": "ipython",
    "version": 3
   },
   "file_extension": ".py",
   "mimetype": "text/x-python",
   "name": "python",
   "nbconvert_exporter": "python",
   "pygments_lexer": "ipython3",
   "version": "3.7.6"
  }
 },
 "nbformat": 4,
 "nbformat_minor": 4
}

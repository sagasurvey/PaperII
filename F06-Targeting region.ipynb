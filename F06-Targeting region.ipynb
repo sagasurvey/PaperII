{
 "cells": [
  {
   "cell_type": "raw",
   "metadata": {},
   "source": [
    "import sys\n",
    "sys.path.insert(0, \"/home/yymao/Dropbox/Academia/Collaborations/SAGA-local/saga\")"
   ]
  },
  {
   "cell_type": "code",
   "execution_count": null,
   "metadata": {},
   "outputs": [],
   "source": [
    "import numpy as np\n",
    "import matplotlib.pyplot as plt\n",
    "\n",
    "from itertools import combinations\n",
    "from collections import Counter, defaultdict\n",
    "from astropy.table import Table, join, vstack, unique\n",
    "from astropy.coordinates import SkyCoord, Distance\n",
    "from SAGA.utils import add_skycoord, find_near_objid, find_near_ra_dec, fill_values_by_query\n",
    "from easyquery import Query, QueryMaker\n",
    "\n",
    "import SAGA\n",
    "from SAGA.database import FitsTable, GoogleSheets\n",
    "from SAGA import ObjectCuts as C\n",
    "from SAGA.utils import add_skycoord\n",
    "from SAGA.utils.distance import z2v, d2m, m2d\n",
    "from SAGA.utils.display import *\n",
    "print(SAGA.__version__)"
   ]
  },
  {
   "cell_type": "code",
   "execution_count": null,
   "metadata": {},
   "outputs": [],
   "source": [
    "saga = SAGA.QuickStart()\n",
    "saga.set_default_base_version(\"paper2\")"
   ]
  },
  {
   "cell_type": "code",
   "execution_count": null,
   "metadata": {},
   "outputs": [],
   "source": [
    "def annotate_base(base):\n",
    "    base[\"Mr_\"] = base[\"r_mag\"] - d2m(base[\"HOST_DIST\"])\n",
    "    base[\"Mr\"] = np.where(np.isfinite(base[\"Mr\"]) & C.has_spec.mask(base), base[\"Mr\"], base[\"Mr_\"])\n",
    "    base[\"log_sm\"] = np.where(np.isfinite(base[\"log_sm\"]), base[\"log_sm\"], 1.254 + 1.0976 * base[\"gr\"] - 0.4 * base[\"Mr\"])\n",
    "    \n",
    "    base[\"human_selected\"] = 0\n",
    "    hs = saga.database[\"human_selected\"].read()\n",
    "    for i in range(1, 4):\n",
    "        base[\"human_selected\"] += np.in1d(base[\"OBJID\"], Query(f\"score == {i}\").filter(hs, \"OBJID\")).astype(np.int) * i\n",
    "\n",
    "    return base"
   ]
  },
  {
   "cell_type": "code",
   "execution_count": null,
   "metadata": {},
   "outputs": [],
   "source": [
    "base = SAGA.database.FitsTable(\"/home/yymao/Downloads/saga_base_all.fits\").read()\n",
    "base = saga.host_catalog.construct_host_query(\"paper2_complete\").filter(base)\n",
    "assert len(np.unique(base[\"HOSTID\"])) == 36\n",
    "\n",
    "base = annotate_base(base)"
   ]
  },
  {
   "cell_type": "code",
   "execution_count": null,
   "metadata": {},
   "outputs": [],
   "source": [
    "assert not Query(C.is_sat, ~C.paper2_targeting_cut).mask(base).any()"
   ]
  },
  {
   "cell_type": "code",
   "execution_count": null,
   "metadata": {},
   "outputs": [],
   "source": [
    "fig, ax = plt.subplots(ncols=2, figsize=(10, 4))\n",
    "\n",
    "def add_points(*queries, **plot_options):\n",
    "    t = Query(*queries).filter(base, [\"r_mag\", \"sb_r\", \"gr\"])\n",
    "    plot_options.setdefault(\"rasterized\", True)\n",
    "    plot_options.setdefault(\"lw\", 0)\n",
    "    ax[1].scatter(t[\"r_mag\"], t[\"gr\"], **plot_options)\n",
    "    if \"label\" in plot_options:\n",
    "        del plot_options[\"label\"]\n",
    "    ax[0].scatter(t[\"r_mag\"], t[\"sb_r\"], **plot_options)    \n",
    "\n",
    "is_p1_sats = Query(C.is_sat, saga.host_catalog.construct_host_query(\"paper1_complete\"), QueryMaker.in1d(\"OBJID\", [4443380000000000475, 3115540000000003218], invert=True))\n",
    "    \n",
    "add_points(~C.has_spec, c=\"grey\", s=0.05, label=\"Galaxies, w/o $z$\")\n",
    "add_points(C.has_spec, ~C.is_low_z, c=\"C0\", s=0.1, label=\"Galaxies, $z>0.02$\")\n",
    "add_points(C.has_spec, C.is_low_z, ~C.is_sat, c=\"C1\", marker='o', s=5, alpha=1, label=\"Galaxies $z<0.02$\")\n",
    "\n",
    "add_points(is_p1_sats, c=\"C2\", marker='^', s=14, label=\"Sat. (Paper I)\", lw=1, zorder=99)\n",
    "add_points(Query(C.is_sat, ~is_p1_sats), c=\"C2\", marker='s', s=10, label=\"Sat. (This work)\", lw=1, zorder=99)\n",
    "add_points(Query(\"human_selected >= 2\", C.has_been_targeted, ~C.has_spec),  edgecolors=\"C5\", c=\"None\", marker='o', s=10, alpha=0.8, lw=1, label=\"dLSBGs, w/o $z$\")\n",
    "\n",
    "r = np.linspace(11.8, 21, 91)\n",
    "ax[0].plot(r, 0.7*(r-14) + 18.5, color='C4', ls=\"--\", alpha=1, label='Primary targeting region')\n",
    "ax[1].plot(r, -0.06*(r-14) + 0.9, color='C4', ls=\"--\", alpha=1)\n",
    "\n",
    "ax[0].set_xlim(11.8, 21)\n",
    "ax[1].set_xlim(11.8, 21)\n",
    "\n",
    "ax[0].set_ylim(18, 26.5)\n",
    "ax[1].set_ylim(-0.05, 1.55)\n",
    "\n",
    "ax[1].set_xlabel(r'$r_o$')\n",
    "ax[1].set_ylabel(r'$(g-r)_o$')\n",
    "ax[0].set_xlabel(r'$r_o$')\n",
    "ax[0].set_ylabel(r'${\\mu}_{r_o,{\\rm eff}}$')\n",
    "\n",
    "lgnd = ax[0].legend(loc=\"lower right\", scatterpoints=3, frameon=True, fontsize=12.5, handletextpad=0.5)\n",
    "\n",
    "lgnd = ax[1].legend(loc=\"upper left\", scatterpoints=3, frameon=True, fontsize=12.5, ncol=2, handletextpad=0.5, columnspacing=1)\n",
    "lgnd.legendHandles[0]._sizes = [10]\n",
    "lgnd.legendHandles[1]._sizes = [10]\n",
    "lgnd.legendHandles[2]._sizes = [15]\n",
    "lgnd.legendHandles[3]._sizes = [15]\n",
    "\n",
    "fig.tight_layout()\n",
    "plt.savefig('/home/yymao/Downloads/targeting-cuts.pdf', dpi=200, bbox_inches='tight')"
   ]
  },
  {
   "cell_type": "code",
   "execution_count": null,
   "metadata": {},
   "outputs": [],
   "source": []
  }
 ],
 "metadata": {
  "kernelspec": {
   "display_name": "Python 3",
   "language": "python",
   "name": "python3"
  },
  "language_info": {
   "codemirror_mode": {
    "name": "ipython",
    "version": 3
   },
   "file_extension": ".py",
   "mimetype": "text/x-python",
   "name": "python",
   "nbconvert_exporter": "python",
   "pygments_lexer": "ipython3",
   "version": "3.7.8"
  }
 },
 "nbformat": 4,
 "nbformat_minor": 4
}

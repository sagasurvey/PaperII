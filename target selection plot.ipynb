{
 "cells": [
  {
   "cell_type": "code",
   "execution_count": null,
   "metadata": {},
   "outputs": [],
   "source": [
    "import sys\n",
    "sys.path.insert(0, '/home/yymao/Dropbox/Academia/Collaborations/SAGA-local/saga')"
   ]
  },
  {
   "cell_type": "code",
   "execution_count": null,
   "metadata": {},
   "outputs": [],
   "source": [
    "from pathlib import Path\n",
    "\n",
    "import SAGA\n",
    "from SAGA import ObjectCuts as C\n",
    "from SAGA import HostCuts as H\n",
    "from easyquery import *\n",
    "from SAGA.utils import *\n",
    "from astropy.table import vstack, Table, join\n",
    "from astropy.coordinates import Distance, SkyCoord\n",
    "\n",
    "import numexpr as ne\n",
    "from scipy.stats import binned_statistic\n",
    "from bottleneck import nanmax, nanmin\n",
    "from itertools import product\n",
    "\n",
    "print(SAGA.__version__)"
   ]
  },
  {
   "cell_type": "code",
   "execution_count": null,
   "metadata": {},
   "outputs": [],
   "source": [
    "saga = SAGA.QuickStart()"
   ]
  },
  {
   "cell_type": "code",
   "execution_count": null,
   "metadata": {},
   "outputs": [],
   "source": [
    "base = SAGA.database.FitsTable(\"/home/yymao/Downloads/saga_base_all.fits\").read()"
   ]
  },
  {
   "cell_type": "code",
   "execution_count": null,
   "metadata": {},
   "outputs": [],
   "source": [
    "fig, ax = plt.subplots(ncols=2, figsize=(10.5, 4))\n",
    "\n",
    "\n",
    "t = (~Query(C.faint_end_limit, C.high_priority_cuts)).filter(base, [\"r_mag\", \"sb_r\", \"gr\"])\n",
    "\n",
    "ax[0].scatter(t[\"r_mag\"], t[\"sb_r\"], c='grey', s=0.1, lw=0, rasterized=True)\n",
    "ax[1].scatter(t[\"r_mag\"], t[\"gr\"], c='grey', s=0.1, lw=0, rasterized=True, label='Non-target galaxies')\n",
    "\n",
    "\n",
    "t = Query(C.faint_end_limit, C.high_priority_cuts, ~C.is_sat).filter(base, [\"r_mag\", \"sb_r\", \"gr\"])\n",
    "\n",
    "ax[0].scatter(t[\"r_mag\"], t[\"sb_r\"], c='C0', s=1, lw=0, rasterized=True)\n",
    "ax[1].scatter(t[\"r_mag\"], t[\"gr\"], c='C0', s=1, lw=0, rasterized=True, label='Target galaxies')\n",
    "\n",
    "\n",
    "r = np.linspace(12, 21, 10)\n",
    "ax[0].plot(r, 0.6*(r-14) + 17.8, c='C2', ls=\"--\")\n",
    "ax[1].plot(r, -0.06*(r-14) + 0.9, c='C2', ls=\"--\", label='Targeting cuts')\n",
    "ax[1].axhline(0.85, c='C2', ls=\"--\", alpha=0.5)\n",
    "#ax[1].text(20.75, 0.88, 'Paper I $gr$ cut', ha=\"right\", c='k')\n",
    "\n",
    "t = Query(C.is_sat, saga.host_catalog.construct_host_query(\"paper1\")).filter(base, [\"r_mag\", \"sb_r\", \"gr\"])\n",
    "\n",
    "ax[0].scatter(t[\"r_mag\"], t[\"sb_r\"], c='C1', s=18, lw=0, rasterized=True, marker=\"^\", label='Satellites in Paper I')\n",
    "ax[1].scatter(t[\"r_mag\"], t[\"gr\"], c='C1', s=18, lw=0, rasterized=True, marker=\"^\")\n",
    "\n",
    "t = Query(C.is_sat, ~saga.host_catalog.construct_host_query(\"paper1\")).filter(base, [\"r_mag\", \"sb_r\", \"gr\"])\n",
    "\n",
    "ax[0].scatter(t[\"r_mag\"], t[\"sb_r\"], c='C3', s=10, lw=0, rasterized=True, label='Satellites (this work)', marker=\"s\")\n",
    "ax[1].scatter(t[\"r_mag\"], t[\"gr\"], c='C3', s=10, lw=0, rasterized=True, marker=\"s\")\n",
    "\n",
    "ax[0].set_xlim(12, 21)\n",
    "ax[1].set_xlim(12, 21)\n",
    "\n",
    "ax[0].set_ylim(16, 26)\n",
    "ax[1].set_ylim(-0.3, 2)\n",
    "\n",
    "ax[1].set_xlabel(r'$r_o$')\n",
    "ax[1].set_ylabel(r'$(g-r)_o$')\n",
    "ax[0].set_xlabel(r'$r_o$')\n",
    "ax[0].set_ylabel(r'${\\mu}_{r_o,{\\rm eff}}$')\n",
    "\n",
    "lgnd = ax[0].legend(loc=\"lower right\", scatterpoints=3, frameon=True)\n",
    "lgnd.legendHandles[0]._sizes = [30]\n",
    "lgnd.legendHandles[1]._sizes = [20]\n",
    "\n",
    "lgnd = ax[1].legend(loc=\"upper left\", scatterpoints=3, frameon=True)\n",
    "lgnd.legendHandles[1]._sizes = [10]\n",
    "lgnd.legendHandles[2]._sizes = [20]\n",
    "\n",
    "fig.tight_layout()\n",
    "\n",
    "#fig.colorbar(c, cax=fig.add_axes((0.90, 0.52, 0.01, 0.4)), label=r'$p_{\\rm GMM}$')\n",
    "plt.savefig('/home/yymao/Downloads/targeting-cuts.pdf', dpi=200)"
   ]
  },
  {
   "cell_type": "code",
   "execution_count": null,
   "metadata": {},
   "outputs": [],
   "source": [
    "specs = Query(C.basic_cut2, C.has_spec, \"SPEC_Z > 0.003\", saga.host_catalog.construct_host_query(\"need_spec < 50\", \"paper2_complete\"), \"SATS != 3\").filter(base)"
   ]
  },
  {
   "cell_type": "code",
   "execution_count": null,
   "metadata": {},
   "outputs": [],
   "source": [
    "len(specs) / Query(C.basic_cut2, saga.host_catalog.construct_host_query(\"need_spec < 50\", \"paper2_complete\")).count(base)"
   ]
  },
  {
   "cell_type": "code",
   "execution_count": null,
   "metadata": {},
   "outputs": [],
   "source": [
    "hosts = np.unique(specs[\"HOSTID\"])\n",
    "print(len(hosts))\n",
    "total_sq_deg = (np.rad2deg(np.arcsin(0.3 / saga.host_catalog.load(hosts)[\"DIST\"]))**2 * np.pi).sum()\n",
    "print(total_sq_deg)"
   ]
  },
  {
   "cell_type": "code",
   "execution_count": null,
   "metadata": {},
   "outputs": [],
   "source": [
    "fig, ax = plt.subplots(ncols=2, figsize=(10.5,3.5))\n",
    "\n",
    "for ax_this, zbins in zip(ax, [np.linspace(0, 0.8, 33), np.linspace(0, 0.05, 11)]):\n",
    "    zbins[0] = 0.003\n",
    "    for q, kw in (\n",
    "        (Query(), dict(label='All redshifts', alpha=0.25, color=\"C1\")),\n",
    "        (C.gri_cut, dict(label='Paper I $gri$ cuts', alpha=0.4, color=\"C2\")),\n",
    "        (C.high_priority_cuts, dict(label='Targeting cuts (this work)', color='C2', alpha=0.95)),\n",
    "    ):\n",
    "        ax_this.hist(q.filter(specs, 'SPEC_Z'), zbins, weights=np.ones(q.count(specs))/total_sq_deg, **kw)\n",
    "\n",
    "        ax_this.set_xlabel(r'$z_{\\rm spec}$')\n",
    "        ax_this.set_ylabel(r'$N_{\\rm spec}$ (per sq. deg., per $z$ bin)')\n",
    "        ax_this.set_xlim(0, 0.8 if zbins[-1] == 0.8 else 0.052)\n",
    "        \n",
    "ax[0].legend(loc='upper right', markerfirst=False, handletextpad=0.1)\n",
    "plt.tight_layout()\n",
    "plt.savefig('/home/yymao/Downloads/z_distribution.pdf', bbox_inches='tight')"
   ]
  },
  {
   "cell_type": "code",
   "execution_count": null,
   "metadata": {},
   "outputs": [],
   "source": [
    "base1 = Query(saga.host_catalog.construct_host_query(\"paper2_complete\")).filter(base)"
   ]
  },
  {
   "cell_type": "code",
   "execution_count": null,
   "metadata": {},
   "outputs": [],
   "source": [
    "def add_scores(specs):\n",
    "    specs[\"score_sb_r\"] = ne.evaluate(\"sb_r + abs(sb_r_err) - 0.6 * (r_mag - 14)\", specs, {})\n",
    "    for c in (\"gr\", \"ri\", \"rz\"):\n",
    "        specs[\"score_{}_r\".format(c)] = ne.evaluate(\"{0} - abs({0}_err) + 0.06* (r_mag - 14)\".format(c), specs, {})\n",
    "    return specs\n",
    "\n",
    "base1 = add_scores(base1)"
   ]
  },
  {
   "cell_type": "code",
   "execution_count": null,
   "metadata": {},
   "outputs": [],
   "source": [
    "\n",
    "fig, ax = plt.subplots(ncols=3, figsize=(10.5, 4))\n",
    "for i, ax_this in enumerate(ax):\n",
    "    \n",
    "    if i == 0:\n",
    "        key = \"r_mag\"\n",
    "        ax_this.set_xlabel(r'$r_o$')\n",
    "        bins = np.linspace(11, 21, 21)\n",
    "        bins[-1] = 20.75\n",
    "    elif i == 1:\n",
    "        key = \"score_sb_r\"\n",
    "        ax_this.set_xlabel(r'$\\mu_{r_o,{\\rm eff}} + \\sigma_\\mu + 0.6\\,(r_o-14)$')\n",
    "        bins = np.linspace(14, 24, 21)\n",
    "        cut_other = Query(C.faint_end_limit, C.high_priority_gr, C.high_priority_ri, C.high_priority_rz, C.high_priority_ug)\n",
    "    elif i == 2:\n",
    "        key = \"score_gr_r\"\n",
    "        ax_this.set_xlabel(r'$(g-r)_o - \\sigma_{gr} - 0.06\\,(r_o - 14) $')\n",
    "        bins = np.linspace(0, 2, 21)\n",
    "        cut_other = Query(C.faint_end_limit, C.high_priority_sb)\n",
    "        \n",
    "    bin_index = np.digitize(base1[key], bins)\n",
    "    cut = Query(C.faint_end_limit, C.high_priority_cuts)\n",
    "    \n",
    "    x = bins[:-1]\n",
    "    width = np.ediff1d(bins)\n",
    "    def add_bar(*queries, **kwargs):\n",
    "        y = np.maximum(np.bincount(bin_index[Query(*queries).mask(base1)], minlength=len(bins)+1)[1:-1], 0.01) \n",
    "        return ax_this.bar(x, y, width=width, align='edge', **kwargs)\n",
    "\n",
    "    c_value = 0.35\n",
    "    l0 = add_bar(color=plt.cm.Greys(c_value))\n",
    "    __ = add_bar(C.has_spec, color=plt.cm.Blues(c_value))\n",
    "    __ = add_bar(C.has_spec, C.has_our_specs_only, color=plt.cm.Greens(c_value))\n",
    "    \n",
    "    if False:\n",
    "        c_value = 0.5\n",
    "        __ = add_bar(cut_other, color=plt.cm.Greys(c_value))\n",
    "        __ = add_bar(cut_other, C.has_spec, color=plt.cm.Blues(c_value))\n",
    "        __ = add_bar(cut_other, C.has_spec, C.has_our_specs_only, color=plt.cm.Greens(c_value))\n",
    "    \n",
    "    c_value = 0.65\n",
    "    l1 = add_bar(cut, color=plt.cm.Greys(c_value))\n",
    "    l2 = add_bar(cut, C.has_spec, color=plt.cm.Blues(c_value))\n",
    "    l3 = add_bar(cut, C.has_spec, C.has_our_specs_only, color=plt.cm.Greens(c_value))\n",
    "    l4 = add_bar(cut, C.has_spec, C.is_sat, color=plt.cm.Oranges(c_value))\n",
    "    \n",
    "    ax_this.set_yscale(\"symlog\", linthreshy=10, subsy=[2,3,4,5,6,7,8,9], linscaley=np.log10(2))\n",
    "    ax_this.set_ylim(0, 3e4)\n",
    "    ax_this.grid(\"on\", axis=\"y\", color=\"k\", lw=0.5)\n",
    "    ax_this.set_xlim(bins[0], bins[-1])\n",
    "    if i == 0:\n",
    "        bins[-1] = 21\n",
    "    ax_this.set_xticks(bins[::5] if i == 2 else bins[::4])\n",
    "    \n",
    "\n",
    "ax[0].set_ylabel(r'$N_{\\rm galaxy}$ (per bin)')\n",
    "\n",
    "x0, y0 = 12, 2e3\n",
    "for mult in (1.1, 2, 5):\n",
    "    ax[0].plot([x0, x0], [y0, y0*mult], c='k', lw=2, marker='')\n",
    "    ax[0].text(x0, y0*0.88, fr'$\\times\\,{mult}$', ha=\"center\", va=\"top\")\n",
    "    x0 += 1.8\n",
    "\n",
    "plt.tight_layout(rect=(0,0,1,0.9), w_pad=0.1)\n",
    "\n",
    "plt.figlegend((l1, l0), (\"Targets (within targeting cuts)\", \"Non-targets (outside within targeting cuts)\"), loc=\"upper right\", markerfirst=False, bbox_to_anchor=(0.955,1))\n",
    "plt.figlegend((l1, l2, l3, l4), (\"No redshift\", \"Pre-existing redshift\", \"SAGA redshift\", \"Satellites\"), loc=\"upper left\", ncol=2, bbox_to_anchor=(0.065,1))\n",
    "\n",
    "plt.savefig('/home/yymao/Downloads/target_spec_counts.pdf', bbox_inches='tight')"
   ]
  },
  {
   "cell_type": "code",
   "execution_count": null,
   "metadata": {},
   "outputs": [],
   "source": []
  }
 ],
 "metadata": {
  "kernelspec": {
   "display_name": "Python 3",
   "language": "python",
   "name": "python3"
  },
  "language_info": {
   "codemirror_mode": {
    "name": "ipython",
    "version": 3
   },
   "file_extension": ".py",
   "mimetype": "text/x-python",
   "name": "python",
   "nbconvert_exporter": "python",
   "pygments_lexer": "ipython3",
   "version": "3.7.6"
  }
 },
 "nbformat": 4,
 "nbformat_minor": 4
}

{
 "cells": [
  {
   "cell_type": "code",
   "execution_count": null,
   "metadata": {},
   "outputs": [],
   "source": [
    "from matplotlib.patches import Circle"
   ]
  },
  {
   "cell_type": "code",
   "execution_count": null,
   "metadata": {},
   "outputs": [],
   "source": [
    "_alpha = np.linspace(1, 0, 81)\n",
    "\n",
    "def add_system(ax, center, radius, n_sat):\n",
    "    r, phi = np.random.rand(2, n_sat)\n",
    "    r *= radius\n",
    "    phi *= (np.pi*2)\n",
    "    x = r*np.cos(phi) + center[0]\n",
    "    y = r*np.sin(phi) + center[1]\n",
    "    color = plt.cm.rainbow_r(center[0]/width/dpi)\n",
    "    colors = np.repeat(color, len(x)).reshape(len(color), -1).T\n",
    "    colors[:,-1] = _alpha[:len(x)]\n",
    "\n",
    "    ax.add_patch(Circle(center, radius*1.05, facecolor=\"none\", edgecolor=\"grey\"))\n",
    "    ax.scatter(x, y, lw=0, s=12, c=colors)\n",
    "    \n",
    "    added.append((center, radius))"
   ]
  },
  {
   "cell_type": "code",
   "execution_count": null,
   "metadata": {},
   "outputs": [],
   "source": [
    "def get_rand(n, area_center, area_radius, radius, tol=1):\n",
    "    r, phi = np.random.rand(2, n*2000)\n",
    "    phi *= (np.pi*2)\n",
    "    pos = np.stack([np.cos(phi) * np.sqrt(r) * area_radius[0] + area_center[0], np.sin(phi) * np.sqrt(r) * area_radius[1] + area_center[1]]).T\n",
    "    \n",
    "    out = [pos[0]]\n",
    "    \n",
    "    lim = 2*tol*radius\n",
    "    for pos1 in pos[1:]:\n",
    "        for pos2 in out:\n",
    "            if np.hypot(*(pos2-pos1)) < lim:\n",
    "                break\n",
    "        else:\n",
    "            out.append(pos1)\n",
    "            if len(out) >= n:\n",
    "                break\n",
    "                \n",
    "    return out"
   ]
  },
  {
   "cell_type": "code",
   "execution_count": null,
   "metadata": {},
   "outputs": [],
   "source": [
    "import SAGA\n",
    "\n",
    "saga = SAGA.QuickStart()\n",
    "saga.set_default_base_version(\"paper2\")\n",
    "hosts = saga.host_catalog.load(\"paper2\", include_stats=True)"
   ]
  },
  {
   "cell_type": "code",
   "execution_count": null,
   "metadata": {},
   "outputs": [],
   "source": [
    "width = 15\n",
    "height = 6\n",
    "dpi = 200\n",
    "fig, ax = plt.subplots(figsize=(width, height), dpi=dpi)\n",
    "ax.set_xlim(0, width*dpi)\n",
    "ax.set_ylim(height*dpi, 0)\n",
    "\n",
    "added = []\n",
    "\n",
    "add_system(ax, (120, 120), 90, 60)\n",
    "add_system(ax, (280, 260), 100, 35)\n",
    "\n",
    "\n",
    "lv = [10, 3, 3, 7, 10, 4]\n",
    "pos = get_rand(len(lv), [630, 520], [170, 170], 60)\n",
    "print(len(pos))\n",
    "\n",
    "for pos_this, n_sat in zip(pos, lv):\n",
    "    add_system(ax, pos_this, 60+np.random.randn(), n_sat)\n",
    "\n",
    "s = hosts[\"sats_total\"]\n",
    "pos = get_rand(len(s), [1400, 700], [500, 360], 55)\n",
    "print(len(pos))\n",
    "\n",
    "for pos_this, n_sat in zip(pos, s):\n",
    "    add_system(ax, pos_this, 55+np.random.randn(), n_sat)\n",
    "\n",
    "    \n",
    "pos = get_rand(200, [2600, 1000], [500, 300], 20, 0.8)\n",
    "for i in range(200):\n",
    "    add_system(ax, pos[i], np.random.randint(18, 22), np.random.randint(0, 3))\n",
    "    \n",
    "ax.axis(\"off\")"
   ]
  },
  {
   "cell_type": "code",
   "execution_count": null,
   "metadata": {},
   "outputs": [],
   "source": []
  }
 ],
 "metadata": {
  "kernelspec": {
   "display_name": "Python 3",
   "language": "python",
   "name": "python3"
  },
  "language_info": {
   "codemirror_mode": {
    "name": "ipython",
    "version": 3
   },
   "file_extension": ".py",
   "mimetype": "text/x-python",
   "name": "python",
   "nbconvert_exporter": "python",
   "pygments_lexer": "ipython3",
   "version": "3.7.8"
  }
 },
 "nbformat": 4,
 "nbformat_minor": 4
}

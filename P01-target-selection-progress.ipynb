{
 "cells": [
  {
   "cell_type": "raw",
   "metadata": {},
   "source": [
    "import sys\n",
    "sys.path.insert(0, \"/home/yymao/Dropbox/Academia/Collaborations/SAGA-local/saga\")"
   ]
  },
  {
   "cell_type": "code",
   "execution_count": null,
   "metadata": {},
   "outputs": [],
   "source": [
    "import numpy as np\n",
    "import matplotlib.pyplot as plt\n",
    "\n",
    "from itertools import combinations\n",
    "from collections import Counter, defaultdict\n",
    "from easyquery import Query, QueryMaker\n",
    "\n",
    "from astropy.table import Table, join, vstack, unique\n",
    "from astropy.coordinates import SkyCoord, Distance\n",
    "from astropy.io import fits\n",
    "from astropy.wcs import WCS\n",
    "\n",
    "import SAGA\n",
    "from SAGA.database import FitsTable, GoogleSheets\n",
    "from SAGA import ObjectCuts as C\n",
    "from SAGA.utils import *\n",
    "from SAGA.utils.distance import z2v, d2m, m2d\n",
    "from SAGA.utils.display import *\n",
    "print(SAGA.__version__)"
   ]
  },
  {
   "cell_type": "code",
   "execution_count": null,
   "metadata": {},
   "outputs": [],
   "source": [
    "import warnings\n",
    "from astropy.wcs import FITSFixedWarning\n",
    "from astropy.io.fits.verify import VerifyWarning\n",
    "warnings.filterwarnings(\"ignore\", category=FITSFixedWarning)\n",
    "warnings.filterwarnings(\"ignore\", category=VerifyWarning)\n",
    "\n",
    "from matplotlib.patches import Ellipse"
   ]
  },
  {
   "cell_type": "code",
   "execution_count": null,
   "metadata": {},
   "outputs": [],
   "source": [
    "saga = SAGA.QuickStart()\n",
    "saga.set_default_base_version(\"paper2\")"
   ]
  },
  {
   "cell_type": "code",
   "execution_count": null,
   "metadata": {},
   "outputs": [],
   "source": [
    "host = saga.host_catalog.load_single(\"NGC7541\")\n",
    "\n",
    "base = SAGA.database.FitsTable(\"/home/yymao/Documents/Research/SAGA/PaperII/data-archive/saga_base_all.fits\").read()\n",
    "base = QueryMaker.equals(\"HOSTID\", host[\"HOSTID\"]).filter(base)\n",
    "\n",
    "host_rvir = np.rad2deg(np.arcsin(0.3 / host[\"DIST\"]))\n",
    "host_ra_corr = np.abs(np.cos(np.deg2rad(host[\"DEC\"])))\n",
    "host_center = (host[\"RA\"], host[\"DEC\"])\n",
    "host_name = host[\"COMMON_NAME\"]\n",
    "fp = fits.open(\"/home/yymao/Documents/Research/SAGA/PaperII/host-dss-images/{}.fits\".format(host[\"HOSTID\"]), output_verify=\"silentfix\")\n",
    "\n",
    "host_background = fp[0].data.copy()\n",
    "host_background_header = fp[0].header\n",
    "del fp[0].data, fp[0]\n",
    "fp.close()"
   ]
  },
  {
   "cell_type": "code",
   "execution_count": null,
   "metadata": {},
   "outputs": [],
   "source": [
    "ncols = 4\n",
    "nrows = 1\n",
    "\n",
    "fig = plt.figure(figsize=(14, 14*nrows/ncols*1.05))\n",
    "gs = plt.GridSpec(nrows, ncols, fig)\n",
    "\n",
    "for i, opt in enumerate([\n",
    "    dict(q=Query(C.basic_cut2), s=7, lw=0, c=\"C8\", label=\"All galaxies $r_o < 20.75$\"),\n",
    "    dict(q=Query(C.basic_cut2, C.paper1_targeting_cut), s=7, lw=0, c=\"C0\", label=\"Conservative color cuts\\n(Geha et al. 2017)\"),\n",
    "    dict(q=Query(C.basic_cut2, C.paper2_targeting_cut) | C.is_sat, s=7, lw=0, c=\"C2\", label=\"Improved Color/SB cuts\\n(Mao et al. 2020)\"),\n",
    "    dict(q=Query(C.is_sat), s=28, lw=1.5, c='none', edgecolors=\"C6\", label=\"Satellites\"),\n",
    "]):\n",
    "    ax = plt.subplot(gs[i], projection=WCS(host_background_header), label=host[\"HOSTID\"])\n",
    "    ax.imshow(host_background, cmap='Greys')\n",
    "    t = opt[\"q\"].filter(base)\n",
    "    del opt[\"q\"]\n",
    "    ax.scatter(t[\"RA\"], t[\"DEC\"], transform=ax.get_transform('fk5'), **opt)\n",
    "    ax.add_patch(Ellipse((host[\"RA\"], host[\"DEC\"]), 2.0*host_rvir/host_ra_corr, 2.0*host_rvir, \n",
    "                 edgecolor='#999999', facecolor='none', transform=ax.get_transform('fk5'))) \n",
    "\n",
    "    ax.set_xlim(-0.5, host_background.data.shape[1] - 0.5)\n",
    "    ax.set_ylim(-0.5, host_background.data.shape[0] - 0.5)\n",
    "    for c in ax.coords:\n",
    "        c.set_ticklabel(exclude_overlapping=True, size=9, pad=0)\n",
    "        c.display_minor_ticks(True)\n",
    "        c.set_axislabel('', size=0)\n",
    "        \n",
    "    ax.text(0.05, 1.05, opt[\"label\"], transform=ax.transAxes, va='bottom', fontsize=15)"
   ]
  },
  {
   "cell_type": "code",
   "execution_count": null,
   "metadata": {},
   "outputs": [],
   "source": []
  }
 ],
 "metadata": {
  "kernelspec": {
   "display_name": "Python 3",
   "language": "python",
   "name": "python3"
  },
  "language_info": {
   "codemirror_mode": {
    "name": "ipython",
    "version": 3
   },
   "file_extension": ".py",
   "mimetype": "text/x-python",
   "name": "python",
   "nbconvert_exporter": "python",
   "pygments_lexer": "ipython3",
   "version": "3.7.8"
  }
 },
 "nbformat": 4,
 "nbformat_minor": 4
}

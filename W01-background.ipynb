{
 "cells": [
  {
   "cell_type": "raw",
   "metadata": {},
   "source": [
    "import sys\n",
    "sys.path.insert(0, \"/home/yymao/Dropbox/Academia/Collaborations/SAGA-local/saga\")"
   ]
  },
  {
   "cell_type": "code",
   "execution_count": null,
   "metadata": {},
   "outputs": [],
   "source": [
    "import numpy as np\n",
    "import matplotlib.pyplot as plt\n",
    "\n",
    "from itertools import combinations, product\n",
    "from collections import Counter, defaultdict\n",
    "from astropy.table import Table\n",
    "from astropy.coordinates import SkyCoord, Distance\n",
    "from SAGA.utils import add_skycoord\n",
    "from easyquery import Query, QueryMaker\n",
    "\n",
    "import SAGA\n",
    "from SAGA.database import FitsTable\n",
    "from SAGA import ObjectCuts as C\n",
    "from SAGA.utils import add_skycoord, fill_values_by_query\n",
    "from SAGA.utils.distance import z2v\n",
    "\n",
    "print(SAGA.__version__)"
   ]
  },
  {
   "cell_type": "code",
   "execution_count": null,
   "metadata": {},
   "outputs": [],
   "source": [
    "saga = SAGA.QuickStart()\n",
    "saga.set_default_base_version(\"paper2\")"
   ]
  },
  {
   "cell_type": "code",
   "execution_count": null,
   "metadata": {},
   "outputs": [],
   "source": [
    "base = SAGA.database.FitsTable(\"/home/yymao/Downloads/saga_base_all.fits\").read()\n",
    "base = saga.host_catalog.construct_host_query(\"paper2_complete\").filter(base)\n",
    "assert len(np.unique(base[\"HOSTID\"])) == 36\n",
    "\n",
    "sats = Query(C.is_sat).filter(base)\n",
    "del base"
   ]
  },
  {
   "cell_type": "code",
   "execution_count": null,
   "metadata": {},
   "outputs": [],
   "source": [
    "sats.sort(\"r_mag\")"
   ]
  },
  {
   "cell_type": "code",
   "execution_count": null,
   "metadata": {},
   "outputs": [],
   "source": [
    "from PIL import Image\n",
    "import requests\n",
    "from io import BytesIO\n",
    "import os\n",
    "\n",
    "params_dict = dict(pixscale=0.3, size=200, layer=\"dr8\")\n",
    "base_url = \"http://legacysurvey.org/viewer-dev/jpeg-cutout/\"\n",
    "cache_dir = \"/home/yymao/Dropbox/Academia/Collaborations/SAGA/Images/PaperII/satellites-web\"\n",
    "\n",
    "def load_image(*args, **kwargs):\n",
    "    response = requests.get(*args, **kwargs)\n",
    "    return response.content\n",
    "\n",
    "def get_satellite_image(sat):\n",
    "    \n",
    "    fname = f\"{sat['survey']}-{sat['OBJID']}.jpg\"\n",
    "    fpath = os.path.join(cache_dir, fname)\n",
    "    try:\n",
    "        img = open(fpath, \"rb\").read()\n",
    "    except FileNotFoundError:    \n",
    "        params_dict[\"ra\"] = sat[\"RA\"]\n",
    "        params_dict[\"dec\"] = sat[\"DEC\"]\n",
    "        params_dict[\"layer\"] = \"des-dr1\" if sat[\"OBJID\"] == 467510764 else \"dr8\"\n",
    "        img = load_image(base_url, params_dict)\n",
    "        open(fpath, \"wb\").write(img)\n",
    "    return Image.open(BytesIO(img))"
   ]
  },
  {
   "cell_type": "code",
   "execution_count": null,
   "metadata": {},
   "outputs": [],
   "source": [
    "idx = np.arange(70, len(sats))\n",
    "idx = idx[np.in1d(idx, [75, 78, 84, 85, 87, 101, 106, 110, 120, 121, 126], True, invert=True)]\n",
    "n = len(idx)\n",
    "idx = np.random.RandomState(1234).choice(idx, n, False)"
   ]
  },
  {
   "cell_type": "code",
   "execution_count": null,
   "metadata": {},
   "outputs": [],
   "source": [
    "ncols = 12\n",
    "nrows = 20\n",
    "\n",
    "fig_width = 16\n",
    "fig = plt.figure(figsize=(fig_width, fig_width*nrows/ncols), linewidth=0, constrained_layout=False, tight_layout=False, facecolor='k', frameon=False)\n",
    "\n",
    "def calc_location(row, col):\n",
    "    return col, nrows-row-1\n",
    "\n",
    "for i, (irow, icol) in enumerate(product(range(nrows), range(ncols))):\n",
    "    x, y = calc_location(irow, icol)\n",
    "    sat = sats[idx[i % n]]\n",
    "    ax = plt.Axes(fig, [x/ncols, y/nrows, 1/ncols, 1/nrows], label=f\"{irow}-{icol}\")\n",
    "    ax.set_axis_off()\n",
    "    fig.add_axes(ax)\n",
    "    img = get_satellite_image(sat)\n",
    "    img.putalpha(120)\n",
    "    ax.imshow(img, aspect=\"auto\")\n",
    "\n",
    "plt.savefig(\"/home/yymao/Downloads/bg.jpg\", bbox_inches=\"tight\", pad_inches=0)"
   ]
  },
  {
   "cell_type": "code",
   "execution_count": null,
   "metadata": {},
   "outputs": [],
   "source": [
    "k = 15\n",
    "\n",
    "d = (np.random.RandomState(123).rand(k)*290+10)/300*260\n",
    "t = (np.random.RandomState(123).rand(k)*np.pi*2)\n",
    "x = d*np.cos(t)\n",
    "y = d*np.sin(t)"
   ]
  },
  {
   "cell_type": "code",
   "execution_count": null,
   "metadata": {},
   "outputs": [],
   "source": [
    "\n",
    "r = 260\n",
    "cy = 450    \n",
    "for host, cx in zip((\"OBrother\", \"AnaK\", \"Odyssey\"), (350, 900, 1450)):\n",
    "    sats_this = QueryMaker.in1d(\"HOST_SAGA_NAME\", host).filter(sats)\n",
    "\n",
    "    x = np.deg2rad(sats_this[\"RA\"] - sats_this[\"HOST_RA\"]) * sats_this[\"HOST_DIST\"] * 1000 * np.cos(np.deg2rad(sats_this[\"HOST_DEC\"]))\n",
    "    y = np.deg2rad(sats_this[\"DEC\"] - sats_this[\"HOST_DEC\"]) * sats_this[\"HOST_DIST\"] * 1000\n",
    "\n",
    "    for cx_this, cy_this in zip(x*r/300+cx, y*r/300+cy):\n",
    "        print(f'<circle cx=\"{cx_this:.0f}\" cy=\"{cy_this:.0f}\" r=\"5\" style=\"stroke: rgba(255,255,255,0.25); stroke-width: 0.85px; fill: none;\"/>')"
   ]
  },
  {
   "cell_type": "code",
   "execution_count": null,
   "metadata": {},
   "outputs": [],
   "source": []
  },
  {
   "cell_type": "code",
   "execution_count": null,
   "metadata": {},
   "outputs": [],
   "source": []
  },
  {
   "cell_type": "code",
   "execution_count": null,
   "metadata": {},
   "outputs": [],
   "source": [
    "\n",
    "    <circle cx=\"900\" cy=\"450\" r=\"260\"/>\n",
    "\t<circle cx=\"350\" cy=\"450\" r=\"260\"/>\n",
    "\t<circle cx=\"1450\" cy=\"450\" r=\"260\"/>"
   ]
  },
  {
   "cell_type": "code",
   "execution_count": null,
   "metadata": {},
   "outputs": [],
   "source": [
    "x, y"
   ]
  },
  {
   "cell_type": "code",
   "execution_count": null,
   "metadata": {},
   "outputs": [],
   "source": []
  }
 ],
 "metadata": {
  "kernelspec": {
   "display_name": "Python 3",
   "language": "python",
   "name": "python3"
  },
  "language_info": {
   "codemirror_mode": {
    "name": "ipython",
    "version": 3
   },
   "file_extension": ".py",
   "mimetype": "text/x-python",
   "name": "python",
   "nbconvert_exporter": "python",
   "pygments_lexer": "ipython3",
   "version": "3.7.8"
  }
 },
 "nbformat": 4,
 "nbformat_minor": 4
}

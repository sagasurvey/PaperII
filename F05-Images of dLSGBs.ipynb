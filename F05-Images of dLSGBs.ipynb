{
 "cells": [
  {
   "cell_type": "raw",
   "metadata": {},
   "source": [
    "import sys\n",
    "sys.path.insert(0, \"/home/yymao/Dropbox/Academia/Collaborations/SAGA-local/saga\")"
   ]
  },
  {
   "cell_type": "code",
   "execution_count": null,
   "metadata": {},
   "outputs": [],
   "source": [
    "import numpy as np\n",
    "import matplotlib.pyplot as plt\n",
    "\n",
    "from itertools import combinations\n",
    "from collections import Counter, defaultdict\n",
    "from astropy.table import Table, join, vstack, unique\n",
    "from astropy.coordinates import SkyCoord, Distance\n",
    "from SAGA.utils import add_skycoord, find_near_objid, find_near_ra_dec, find_objid\n",
    "from easyquery import Query, QueryMaker\n",
    "\n",
    "import SAGA\n",
    "from SAGA.database import FitsTable, GoogleSheets\n",
    "from SAGA import ObjectCuts as C\n",
    "from SAGA.utils import add_skycoord\n",
    "from SAGA.utils.distance import z2v, d2m, m2d\n",
    "from SAGA.utils.display import *\n",
    "print(SAGA.__version__)"
   ]
  },
  {
   "cell_type": "code",
   "execution_count": null,
   "metadata": {},
   "outputs": [],
   "source": [
    "objects = np.array([5618260000000001312, 3125140000000000628, 5597470000000002640, 4456920000000002940, 4427340000000003054, 3597300000000002624, 4251140000000000989, 5263260000000002113], np.int).reshape(4, 2).T"
   ]
  },
  {
   "cell_type": "code",
   "execution_count": null,
   "metadata": {},
   "outputs": [],
   "source": [
    "base = SAGA.database.FitsTable(\"/home/yymao/Downloads/saga_base_all.fits\").read()\n",
    "base = QueryMaker.in1d(\"OBJID\", objects.flatten()).filter(base)\n",
    "assert len(base) == 8"
   ]
  },
  {
   "cell_type": "code",
   "execution_count": null,
   "metadata": {},
   "outputs": [],
   "source": [
    "from PIL import Image\n",
    "import requests\n",
    "from io import BytesIO\n",
    "import os\n",
    "\n",
    "params_dict = dict(pixscale=0.2, size=200, layer=\"dr8\")\n",
    "base_url = \"http://legacysurvey.org/viewer-dev/jpeg-cutout/\"\n",
    "cache_dir = \"/home/yymao/Downloads/\"\n",
    "\n",
    "def load_image(*args, **kwargs):\n",
    "    response = requests.get(*args, **kwargs)\n",
    "    return response.content\n",
    "\n",
    "def get_satellite_image(sat):\n",
    "    \n",
    "    fname = f\"{sat['survey']}-{sat['OBJID']}.jpg\"\n",
    "    fpath = os.path.join(cache_dir, fname)\n",
    "    try:\n",
    "        img = open(fpath, \"rb\").read()\n",
    "    except FileNotFoundError:    \n",
    "        params_dict[\"ra\"] = sat[\"RA\"]\n",
    "        params_dict[\"dec\"] = sat[\"DEC\"]\n",
    "        params_dict[\"layer\"] = \"des-dr1\" if sat[\"OBJID\"] == 467510764 else \"dr8\"\n",
    "        img = load_image(base_url, params_dict)\n",
    "        open(fpath, \"wb\").write(img)\n",
    "    return Image.open(BytesIO(img))"
   ]
  },
  {
   "cell_type": "code",
   "execution_count": null,
   "metadata": {},
   "outputs": [],
   "source": [
    "fig, ax = plt.subplots(2, 4, figsize=(8, 4.))\n",
    "\n",
    "for ax_this, obj_this in zip(ax.flat, objects.flat):\n",
    "    sat = find_objid(base, obj_this)\n",
    "    ax_this.imshow(get_satellite_image(sat))\n",
    "    ax_this.set_axis_off()\n",
    "    ax_this.text(10, 10, (\"$z={:.4f}$\".format(sat[\"SPEC_Z\"]) if sat[\"ZQUALITY\"] >= 3 else \"$z=?$\"), va=\"top\", fontsize=13, color=\"w\")\n",
    "    ax_this.text(10, 190, \"$r_o={:.1f},\\\\;\\\\mu_\\\\mathrm{{eff}}={:.1f}$\".format(sat[\"r_mag\"], sat[\"sb_r\"]), va=\"bottom\", fontsize=13, color=\"w\")\n",
    "\n",
    "ax[0][0].set_title(\"Satellites\")\n",
    "ax[0][1].set_title(\"Low-$z$ dLSBGs\")\n",
    "ax[0][2].set_title(\"dLSBGs, w/o $z$\")\n",
    "ax[0][3].set_title(\"Non-diffused LSBG\")\n",
    "\n",
    "fig.tight_layout(pad=0, h_pad=0, w_pad=0)\n",
    "plt.savefig(\"/home/yymao/Downloads/lsbg-example.pdf\", bbox_inches=\"tight\")"
   ]
  },
  {
   "cell_type": "code",
   "execution_count": null,
   "metadata": {},
   "outputs": [],
   "source": []
  }
 ],
 "metadata": {
  "kernelspec": {
   "display_name": "Python 3",
   "language": "python",
   "name": "python3"
  },
  "language_info": {
   "codemirror_mode": {
    "name": "ipython",
    "version": 3
   },
   "file_extension": ".py",
   "mimetype": "text/x-python",
   "name": "python",
   "nbconvert_exporter": "python",
   "pygments_lexer": "ipython3",
   "version": "3.7.8"
  }
 },
 "nbformat": 4,
 "nbformat_minor": 4
}

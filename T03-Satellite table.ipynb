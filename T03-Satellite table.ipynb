{
 "cells": [
  {
   "cell_type": "raw",
   "metadata": {},
   "source": [
    "import sys\n",
    "sys.path.insert(0, \"/home/yymao/Dropbox/Academia/Collaborations/SAGA-local/saga\")"
   ]
  },
  {
   "cell_type": "code",
   "execution_count": null,
   "metadata": {},
   "outputs": [],
   "source": [
    "import SAGA\n",
    "from easyquery import Query, QueryMaker\n",
    "from SAGA.database import FitsTable\n",
    "from SAGA import ObjectCuts as C\n",
    "from SAGA import HostCuts as H\n",
    "from astropy.table import join\n",
    "from SAGA.utils.distance import z2v\n",
    "from SAGA.utils import join_str_arr\n",
    "from SAGA.objects.cuts import _known_telnames as pre_exist_tel"
   ]
  },
  {
   "cell_type": "code",
   "execution_count": null,
   "metadata": {},
   "outputs": [],
   "source": [
    "saga = SAGA.QuickStart()\n",
    "saga.set_default_base_version(\"paper2\")"
   ]
  },
  {
   "cell_type": "code",
   "execution_count": null,
   "metadata": {},
   "outputs": [],
   "source": [
    "base = SAGA.database.FitsTable(\"/home/yymao/Downloads/saga_base_all.fits\").read()\n",
    "base = saga.host_catalog.construct_host_query(\"paper2_complete\").filter(base)\n",
    "assert len(np.unique(base[\"HOSTID\"])) == 36\n",
    "\n",
    "sats = Query(C.is_sat).filter(base)\n",
    "del base"
   ]
  },
  {
   "cell_type": "code",
   "execution_count": null,
   "metadata": {},
   "outputs": [],
   "source": [
    "assert len(sats) == 127"
   ]
  },
  {
   "cell_type": "code",
   "execution_count": null,
   "metadata": {},
   "outputs": [],
   "source": [
    "sats.sort([\"HOST_RA\", \"r_mag\"])"
   ]
  },
  {
   "cell_type": "code",
   "execution_count": null,
   "metadata": {},
   "outputs": [],
   "source": [
    "def format_tel(s):\n",
    "    s = s.split(\"+\")\n",
    "    if len(s) == 1:\n",
    "        return s[0]\n",
    "    exist = sorted(pre_exist_tel.intersection(s))\n",
    "    if not exist:\n",
    "        return sorted(s)[0] + \"+\"\n",
    "    \n",
    "    while exist:\n",
    "        if len(exist) == 1:\n",
    "            return exist[0]\n",
    "        if 'NSA' in exist:\n",
    "            exist.remove(\"NSA\")\n",
    "            continue\n",
    "        if 'GAMA' in exist:\n",
    "            exist.remove(\"GAMA\")\n",
    "            continue\n",
    "        if \"SDSS\" in exist:\n",
    "            return \"SDSS+\"\n",
    "        return sorted(exist)[0] + \"+\""
   ]
  },
  {
   "cell_type": "code",
   "execution_count": null,
   "metadata": {},
   "outputs": [],
   "source": [
    "t = sats['HOST_COMMON_NAME', \"OBJID\", \"survey\", 'RA', \"DEC\", 'RHOST_KPC', 'SPEC_Z', \"HOST_VHOST\", 'r_mag', 'Mr', 'gr', 'sb_r', 'log_sm', \"SPEC_REPEAT\"]\n",
    "\n",
    "\n",
    "t[\"OBJID\"] = np.where(\n",
    "    t[\"survey\"] == \"sdss\", \n",
    "    t[\"OBJID\"], \n",
    "    np.where(\n",
    "        t[\"survey\"] == \"decals\", \n",
    "        join_str_arr(\"LS-\", (sats[\"OBJID\"] // int(1e13)).astype(str), \"-\", (sats[\"OBJID\"] % int(1e13)).astype(str)),\n",
    "        join_str_arr(np.char.upper(sats[\"survey\"]), \"-\", sats[\"OBJID\"].astype(str)),\n",
    "    ),\n",
    ")\n",
    "del t[\"survey\"]\n",
    "t[\"SPEC_REPEAT\"] = list(map(format_tel, t[\"SPEC_REPEAT\"]))\n",
    "t['RA'].format = '%.4f'\n",
    "t['DEC'].format = '%.4f'\n",
    "t['RHOST_KPC'].format = '%d'\n",
    "t[\"SPEC_Z\"] = z2v(t[\"SPEC_Z\"]) - t[\"HOST_VHOST\"]\n",
    "t[\"SPEC_Z\"].format = '%.d'\n",
    "del t[\"HOST_VHOST\"]\n",
    "t['r_mag'].format = '%.2f'\n",
    "t['Mr'].format = '%.1f'\n",
    "t['gr'].format = '%.2f'\n",
    "t['sb_r'].format = '%.2f'\n",
    "t['log_sm'].format = '%.2f'\n",
    "\n",
    "\n",
    "t.rename_column(\"RHOST_KPC\", \"D_PROJ\")\n",
    "t.rename_column(\"SPEC_Z\", \"DELTA_HRV\")\n",
    "t.rename_column(\"r_mag\", \"R\")\n",
    "t.rename_column(\"Mr\", \"R_ABS\")\n",
    "t.rename_column(\"gr\", \"GR\")\n",
    "t.rename_column(\"sb_r\", \"MU_EFF\")\n",
    "t.rename_column(\"log_sm\", \"LOG_STELLAR_MASS\")\n",
    "t.rename_column(\"SPEC_REPEAT\", \"Z_SOURCE\")"
   ]
  },
  {
   "cell_type": "code",
   "execution_count": null,
   "metadata": {},
   "outputs": [],
   "source": [
    "assert (\n",
    "    np.count_nonzero(np.char.startswith(t[\"Z_SOURCE\"], \"MMT\")) + \n",
    "    np.count_nonzero(np.char.startswith(t[\"Z_SOURCE\"], \"AAT\")) + \n",
    "    np.count_nonzero(np.char.startswith(t[\"Z_SOURCE\"], \"PAL\"))) == 69"
   ]
  },
  {
   "cell_type": "code",
   "execution_count": null,
   "metadata": {},
   "outputs": [],
   "source": [
    "colheads = [\n",
    "    \"Host\\nName\",\n",
    "    \"Object\\nID\",\n",
    "    \"R.A.\\n[deg]\",\n",
    "    \"Dec.\\n[deg]\",\n",
    "    \"$d_\\\\text{proj}$\\n[kpc]\",\n",
    "    \"$\\\\Delta$\\\\,HRV\\n[\\\\kms]\",\n",
    "    \"$r_o$\\n[mag]\",\n",
    "    \"$M_{r,o}$\\n[mag]\",\n",
    "    \"$(g-r)_o$\\n[mag]\",\n",
    "    \"$\\\\mueff$\\n[mag\\,$('')^{-2}$]\", \n",
    "    \"$M_*$\\n[\\\\msun]\",\n",
    "    \"Redshift\\nsource\",\n",
    "]"
   ]
  },
  {
   "cell_type": "code",
   "execution_count": null,
   "metadata": {},
   "outputs": [],
   "source": [
    "colheads_formatted = [[], [], []]\n",
    "for i, colhead in enumerate(colheads):\n",
    "    colhead = colhead.splitlines()\n",
    "    while len(colhead) < 2:\n",
    "        colhead.insert(0, \"~\")\n",
    "    colhead.append(f\"({i+1})\")\n",
    "    for new, l in zip(colheads_formatted, colhead):\n",
    "        new.append(l)"
   ]
  },
  {
   "cell_type": "code",
   "execution_count": null,
   "metadata": {},
   "outputs": [],
   "source": [
    "print(\"\\\\\\\\[-6pt]\\n\".join((\" & \".join((f\"\\colhead{{{i}}}\" for i in row)) for row in colheads_formatted)))"
   ]
  },
  {
   "cell_type": "code",
   "execution_count": null,
   "metadata": {},
   "outputs": [],
   "source": [
    "from io import StringIO\n",
    "o = StringIO()\n",
    "t.write(o, format=\"ascii.aastex\")\n",
    "o.seek(0)\n",
    "\n",
    "host = None\n",
    "cached_line = None\n",
    "for line in o:\n",
    "    line = line.strip()\n",
    "    if line[0] == '\\\\':\n",
    "        if cached_line:\n",
    "            print(cached_line)\n",
    "            cached_line = None\n",
    "        continue\n",
    "    if host != line.partition(\" \")[0]:\n",
    "        if host is not None:\n",
    "            cached_line = cached_line + \" \\\\hline\"\n",
    "        host = line.partition(\" \")[0]\n",
    "    if cached_line:\n",
    "        print(cached_line)\n",
    "        cached_line = None\n",
    "    cached_line = line"
   ]
  },
  {
   "cell_type": "code",
   "execution_count": null,
   "metadata": {},
   "outputs": [],
   "source": [
    "t[\"INTERNAL_HOSTID\"] = sats[\"HOSTID\"]\n",
    "t[\"INTERNAL_OBJID\"] = sats[\"OBJID\"]"
   ]
  },
  {
   "cell_type": "code",
   "execution_count": null,
   "metadata": {},
   "outputs": [],
   "source": [
    "t.write(\"/home/yymao/Downloads/saga_stage2_sats.csv\", overwrite=True)"
   ]
  },
  {
   "cell_type": "code",
   "execution_count": null,
   "metadata": {},
   "outputs": [],
   "source": []
  }
 ],
 "metadata": {
  "kernelspec": {
   "display_name": "Python 3",
   "language": "python",
   "name": "python3"
  },
  "language_info": {
   "codemirror_mode": {
    "name": "ipython",
    "version": 3
   },
   "file_extension": ".py",
   "mimetype": "text/x-python",
   "name": "python",
   "nbconvert_exporter": "python",
   "pygments_lexer": "ipython3",
   "version": "3.7.8"
  }
 },
 "nbformat": 4,
 "nbformat_minor": 4
}

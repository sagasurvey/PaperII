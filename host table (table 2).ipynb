{
 "cells": [
  {
   "cell_type": "code",
   "execution_count": null,
   "metadata": {},
   "outputs": [],
   "source": [
    "import sys\n",
    "sys.path.insert(0, \"/home/yymao/Dropbox/Academia/Collaborations/SAGA-local/saga\")"
   ]
  },
  {
   "cell_type": "code",
   "execution_count": null,
   "metadata": {},
   "outputs": [],
   "source": [
    "import SAGA\n",
    "from easyquery import Query, QueryMaker\n",
    "from SAGA.database import FitsTable\n",
    "from SAGA import HostCuts as H\n",
    "from astropy.table import join"
   ]
  },
  {
   "cell_type": "code",
   "execution_count": null,
   "metadata": {},
   "outputs": [],
   "source": [
    "saga = SAGA.QuickStart()"
   ]
  },
  {
   "cell_type": "code",
   "execution_count": null,
   "metadata": {},
   "outputs": [],
   "source": [
    "hosts_with_stats = saga.host_catalog.load(include_stats=True)"
   ]
  },
  {
   "cell_type": "code",
   "execution_count": null,
   "metadata": {},
   "outputs": [],
   "source": [
    "hosts_with_stats['Coverage'] = np.char.add(np.char.add(\n",
    "    np.where(Query('COVERAGE_SDSS > 0.95').mask(hosts_with_stats), 'S', '-'),\n",
    "    np.where(Query('COVERAGE_DES_DR1 > 0.95').mask(hosts_with_stats), 'D', '-'),\n",
    "), np.where(Query('(COVERAGE_DECALS_DR6 > 0.95) | (COVERAGE_DECALS_DR7 > 0.95)').mask(hosts_with_stats), 'L', '-'))"
   ]
  },
  {
   "cell_type": "code",
   "execution_count": null,
   "metadata": {},
   "outputs": [],
   "source": [
    "hosts_with_stats = H.paper2_complete.filter(hosts_with_stats)"
   ]
  },
  {
   "cell_type": "code",
   "execution_count": null,
   "metadata": {},
   "outputs": [],
   "source": [
    "better_p_sat = SAGA.database.FastCsvTable(\"/home/yymao/Downloads/saga_sat_prob.csv\")\n",
    "if better_p_sat.isfile():\n",
    "    hosts_with_stats = join(hosts_with_stats, better_p_sat.read()[\"HOSTID\", \"sats_missed_pred\"], \"HOSTID\", \"left\")\n",
    "    hosts_with_stats[\"sats_missed_approx\"] = hosts_with_stats[\"sats_missed_pred\"]\n",
    "    del hosts_with_stats[\"sats_missed_pred\"]"
   ]
  },
  {
   "cell_type": "code",
   "execution_count": null,
   "metadata": {},
   "outputs": [],
   "source": [
    "t = hosts_with_stats['COMMON_NAME', 'SAGA_NAME', 'PGC', 'RA', \"DEC\", 'V_HELIO', 'DIST', 'K_ABS', 'Coverage', 'specs_ours', 'really_need_spec', 'sats_total', 'sats_Mr_limit', \"sats_missed_approx\"]"
   ]
  },
  {
   "cell_type": "code",
   "execution_count": null,
   "metadata": {},
   "outputs": [],
   "source": [
    "t.sort('RA')"
   ]
  },
  {
   "cell_type": "code",
   "execution_count": null,
   "metadata": {},
   "outputs": [],
   "source": [
    "t['sats_below'] = np.where(t['sats_Mr_limit'] == t['sats_total'], '', np.char.mod('(%d)', t['sats_total']-t['sats_Mr_limit']))\n",
    "t[\"sats_missed_approx1\"] = t[\"sats_missed_approx\"] \n",
    "t['RA'].format = '%.3f'\n",
    "t['DEC'].format = '%.3f'\n",
    "t['V_HELIO'].format = '%d'\n",
    "t['DIST'].format = '%.1f'\n",
    "t['K_ABS'].format = '%.2f'\n",
    "t['sats_missed_approx1'].format = '%.3f'\n",
    "\n",
    "t.rename_column('COMMON_NAME', 'Name')\n",
    "t.rename_column('SAGA_NAME', 'SAGA Name')\n",
    "t.rename_column('RA', 'R.A.')\n",
    "t.rename_column('DEC', 'Dec.')\n",
    "t.rename_column('V_HELIO', 'HRV')\n",
    "t.rename_column('DIST', '$d$')\n",
    "t.rename_column('K_ABS', '$M_{K,o}$')\n",
    "t.rename_column('specs_ours', r'$N_\\text{spec,SAGA}$')\n",
    "t.rename_column('really_need_spec', r'$N_\\text{spec,need}$')\n",
    "t.rename_column('sats_Mr_limit', r'$N_\\text{sat}$')\n",
    "t.rename_column('sats_below', r'~')\n",
    "t.rename_column('sats_missed_approx1', r'$N_\\text{sat,pred}$')\n",
    "del t['sats_total'], t['sats_missed_approx']"
   ]
  },
  {
   "cell_type": "code",
   "execution_count": null,
   "metadata": {},
   "outputs": [],
   "source": [
    "print(len(t))"
   ]
  },
  {
   "cell_type": "code",
   "execution_count": null,
   "metadata": {},
   "outputs": [],
   "source": [
    "from io import StringIO\n",
    "o = StringIO()\n",
    "t.write(o, format=\"ascii.aastex\")\n",
    "print(o.getvalue())"
   ]
  },
  {
   "cell_type": "code",
   "execution_count": null,
   "metadata": {},
   "outputs": [],
   "source": []
  }
 ],
 "metadata": {
  "kernelspec": {
   "display_name": "Python 3",
   "language": "python",
   "name": "python3"
  },
  "language_info": {
   "codemirror_mode": {
    "name": "ipython",
    "version": 3
   },
   "file_extension": ".py",
   "mimetype": "text/x-python",
   "name": "python",
   "nbconvert_exporter": "python",
   "pygments_lexer": "ipython3",
   "version": "3.7.6"
  }
 },
 "nbformat": 4,
 "nbformat_minor": 4
}

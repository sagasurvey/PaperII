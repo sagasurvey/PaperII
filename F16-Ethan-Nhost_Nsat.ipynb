{
 "cells": [
  {
   "cell_type": "markdown",
   "metadata": {},
   "source": [
    "### Imports and Settings"
   ]
  },
  {
   "cell_type": "code",
   "execution_count": null,
   "metadata": {},
   "outputs": [],
   "source": [
    "import pickle\n",
    "import os\n",
    "import numpy as np\n",
    "import matplotlib.pyplot as plt\n",
    "\n",
    "import SAGA\n",
    "from SAGA.database import FitsTable\n",
    "from easyquery import Query\n",
    "from easyquery import QueryMaker\n",
    "from SAGA import ObjectCuts as C"
   ]
  },
  {
   "cell_type": "code",
   "execution_count": null,
   "metadata": {},
   "outputs": [],
   "source": [
    "%matplotlib inline\n",
    "%config InlineBackend.figure_format='retina'\n",
    "%config InlineBackend.rc = {'figure.facecolor': 'w'}\n",
    "\n",
    "plt.rcParams['font.size'] = 14\n",
    "plt.rcParams['figure.dpi'] = 200\n",
    "plt.rcParams['font.family'] = 'STIXGeneral'\n",
    "plt.rcParams['mathtext.fontset'] = 'stix'\n",
    "plt.rcParams['axes.labelsize'] = 'large'\n",
    "plt.rcParams['legend.frameon'] = False\n",
    "plt.rcParams['lines.markersize'] = 4\n",
    "plt.rcParams['xtick.minor.visible'] = True\n",
    "plt.rcParams['ytick.minor.visible'] = True\n",
    "plt.rcParams['xtick.major.size'] = 6\n",
    "plt.rcParams['xtick.minor.size'] = 4\n",
    "plt.rcParams['ytick.major.size'] = 6\n",
    "plt.rcParams['ytick.minor.size'] = 4"
   ]
  },
  {
   "cell_type": "markdown",
   "metadata": {},
   "source": [
    "### Load SAGA Data"
   ]
  },
  {
   "cell_type": "code",
   "execution_count": null,
   "metadata": {},
   "outputs": [],
   "source": [
    "saga = SAGA.QuickStart()\n",
    "saga.set_default_base_version(\"paper2\")\n",
    "hosts = saga.host_catalog.load(include_stats=True)"
   ]
  },
  {
   "cell_type": "code",
   "execution_count": null,
   "metadata": {},
   "outputs": [],
   "source": [
    "completed_hosts = saga.host_catalog.load(query=\"paper2_complete\", include_stats=\"remote\")"
   ]
  },
  {
   "cell_type": "code",
   "execution_count": null,
   "metadata": {},
   "outputs": [],
   "source": [
    "hosts_p_nsat_total = np.load(\"EON_data/hosts_p_nsat_total.npz\")\n",
    "\n",
    "sats_num_draws = []\n",
    "\n",
    "for i in range(10000):\n",
    "    temp = np.zeros(21)\n",
    "    rands = np.random.rand(len(completed_hosts))\n",
    "    for j in range(len(completed_hosts)):\n",
    "        temp[int(np.random.choice(np.linspace(0.,20.,21),1,p=hosts_p_nsat_total[completed_hosts[j]['HOSTID']]))]+=1\n",
    "    sats_num_draws.append(temp)"
   ]
  },
  {
   "cell_type": "code",
   "execution_count": null,
   "metadata": {},
   "outputs": [],
   "source": [
    "saga_nums = np.zeros(15)\n",
    "\n",
    "for host in completed_hosts:\n",
    "    num_bright_sats = host['sats_Mr_limit']\n",
    "    saga_nums[num_bright_sats] += 1"
   ]
  },
  {
   "cell_type": "code",
   "execution_count": null,
   "metadata": {},
   "outputs": [],
   "source": [
    "pred_total = np.load('EON_data/Nhost_Nsat_pred.npy.zip')['Nhost_Nsat_pred']"
   ]
  },
  {
   "cell_type": "code",
   "execution_count": null,
   "metadata": {},
   "outputs": [],
   "source": [
    "plt.figure(figsize=(4.8,4.))\n",
    "\n",
    "obs = plt.scatter(np.linspace(0.,14.,15)[saga_nums!=0],saga_nums[saga_nums!=0],marker='*',s=60,color='k',\n",
    "                  label=r'SAGA (Observed)',rasterized=True,zorder=999)\n",
    "\n",
    "yerr_lower = np.median(sats_num_draws,axis=0)-np.quantile(sats_num_draws,0.025,axis=0)\n",
    "yerr_upper = np.quantile(sats_num_draws,0.975,axis=0)-np.median(sats_num_draws,axis=0)\n",
    "\n",
    "inc = plt.errorbar(np.linspace(0.,20.,21)[np.median(sats_num_draws,axis=0)!=0],\n",
    "                   np.median(sats_num_draws,axis=0)[np.median(sats_num_draws,axis=0)!=0],\n",
    "                   yerr=(yerr_lower[np.median(sats_num_draws,axis=0)!=0],yerr_upper[np.median(sats_num_draws,axis=0)!=0]),\n",
    "                   color='k',alpha=0.75,capsize=2.5,fmt='o',markersize=3.25,linestyle='None',\n",
    "                   label=r'SAGA (Inc. Corrected)',rasterized=True)\n",
    "\n",
    "plt.errorbar(np.linspace(0.,20.,21)[np.median(sats_num_draws,axis=0)==0],\n",
    "             np.median(sats_num_draws,axis=0)[np.median(sats_num_draws,axis=0)==0],\n",
    "             yerr=(yerr_lower[np.median(sats_num_draws,axis=0)==0],yerr_upper[np.median(sats_num_draws,axis=0)==0]),\n",
    "             color='k',alpha=0.75,capsize=2.5,rasterized=True)\n",
    "\n",
    "plt.scatter(np.linspace(0.,14.,15)[saga_nums==0],0.25*np.ones(len(np.linspace(0.,14.,15)[saga_nums==0])),\n",
    "            color='k',alpha=1.0,marker='v',s=30,zorder=999,rasterized=True)\n",
    "\n",
    "#Prediction\n",
    "pred = plt.fill_between(np.linspace(0.,74.,75),np.quantile(pred_total,0.16,axis=0),np.quantile(pred_total,0.84,axis=0),\n",
    "                        facecolor=\"#003660\",alpha=0.3,label=r'Predicted',rasterized=True)\n",
    "\n",
    "plt.fill_between(np.linspace(0.,74.,75),np.quantile(pred_total,0.025,axis=0),np.quantile(pred_total,0.975,axis=0),\n",
    "                 facecolor=\"#04859B\",alpha=0.15,rasterized=True)\n",
    "\n",
    "#MW\n",
    "plt.plot(5.0*np.ones(10),np.linspace(0.0,13.5,10),c='gray',ls='--',alpha=0.75,zorder=1)\n",
    "plt.text(4.45,8.5,'MW',rotation=90,fontsize=10,color='gray')\n",
    "\n",
    "#M31\n",
    "plt.plot(9.0*np.ones(10),np.linspace(0.0,13.5,10),c='gray',ls='-.',alpha=0.75,zorder=1)\n",
    "plt.text(8.45,8.5,'M31',rotation=90,fontsize=10,color='gray')\n",
    "\n",
    "#Ticks, labels, etc.\n",
    "plt.xlim(-0.5,13.5)\n",
    "plt.ylim(0.0,13.5)\n",
    "\n",
    "plt.xticks([0,2,4,6,8,10,12],[r'$0$',r'$2$',r'$4$',r'$6$',r'$8$',r'$10$',r'$12$'],fontsize=14)\n",
    "plt.yticks([0,5,10],[r'$0$',r'$5$',r'$10$'],fontsize=14)\n",
    "\n",
    "plt.xlabel(r'$N_{\\rm{sat}}$',fontsize=18,labelpad=8)\n",
    "plt.ylabel(r'$N_{\\rm{host}}$',fontsize=18,labelpad=8)\n",
    "\n",
    "plt.legend(handles=[obs,inc,pred],loc=1,handletextpad=0.5,fontsize=9.5,frameon=True,framealpha=1.0)\n",
    "\n",
    "plt.tight_layout()\n",
    "plt.savefig('Nhost_Nsat_pred.pdf')\n",
    "plt.show()"
   ]
  },
  {
   "cell_type": "code",
   "execution_count": null,
   "metadata": {},
   "outputs": [],
   "source": []
  }
 ],
 "metadata": {
  "kernelspec": {
   "display_name": "Python 3",
   "language": "python",
   "name": "python3"
  },
  "language_info": {
   "codemirror_mode": {
    "name": "ipython",
    "version": 3
   },
   "file_extension": ".py",
   "mimetype": "text/x-python",
   "name": "python",
   "nbconvert_exporter": "python",
   "pygments_lexer": "ipython3",
   "version": "3.8.6"
  }
 },
 "nbformat": 4,
 "nbformat_minor": 4
}

{
 "cells": [
  {
   "cell_type": "markdown",
   "metadata": {},
   "source": [
    "### Imports and Settings"
   ]
  },
  {
   "cell_type": "code",
   "execution_count": null,
   "metadata": {},
   "outputs": [],
   "source": [
    "import pickle\n",
    "import os\n",
    "import numpy as np\n",
    "import matplotlib.pyplot as plt\n",
    "\n",
    "import SAGA\n",
    "from SAGA.database import FitsTable\n",
    "from easyquery import Query\n",
    "from easyquery import QueryMaker\n",
    "from SAGA import ObjectCuts as C"
   ]
  },
  {
   "cell_type": "code",
   "execution_count": null,
   "metadata": {},
   "outputs": [],
   "source": [
    "%matplotlib inline\n",
    "%config InlineBackend.figure_format='retina'\n",
    "%config InlineBackend.rc = {'figure.facecolor': 'w'}\n",
    "\n",
    "plt.rcParams['font.size'] = 14\n",
    "plt.rcParams['figure.dpi'] = 200\n",
    "plt.rcParams['font.family'] = 'STIXGeneral'\n",
    "plt.rcParams['mathtext.fontset'] = 'stix'\n",
    "plt.rcParams['axes.labelsize'] = 'large'\n",
    "plt.rcParams['legend.frameon'] = False\n",
    "plt.rcParams['lines.markersize'] = 4\n",
    "plt.rcParams['xtick.minor.visible'] = True\n",
    "plt.rcParams['ytick.minor.visible'] = True\n",
    "plt.rcParams['xtick.major.size'] = 6\n",
    "plt.rcParams['xtick.minor.size'] = 4\n",
    "plt.rcParams['ytick.major.size'] = 6\n",
    "plt.rcParams['ytick.minor.size'] = 4"
   ]
  },
  {
   "cell_type": "markdown",
   "metadata": {},
   "source": [
    "### Load SAGA Data"
   ]
  },
  {
   "cell_type": "code",
   "execution_count": null,
   "metadata": {},
   "outputs": [],
   "source": [
    "def Mr_from_r(r,host_dist):\n",
    "    return r - 5.*np.log10(host_dist) - 25."
   ]
  },
  {
   "cell_type": "code",
   "execution_count": null,
   "metadata": {},
   "outputs": [],
   "source": [
    "saga = SAGA.QuickStart()\n",
    "saga.set_default_base_version(\"paper2\")\n",
    "\n",
    "hosts = saga.host_catalog.load(include_stats=True)\n",
    "paper1_hosts = np.array(['nsa166313', 'nsa147100', 'nsa165536', 'nsa61945', 'nsa132339',\n",
    "                         'nsa149781', 'nsa33446', 'nsa150887'])"
   ]
  },
  {
   "cell_type": "code",
   "execution_count": null,
   "metadata": {},
   "outputs": [],
   "source": [
    "completed_hosts = saga.host_catalog.load(query=\"paper2_complete\", include_stats=\"remote\")\n",
    "observed_hosts = saga.host_catalog.load(query=\"paper2_observed\", include_stats=\"remote\")\n",
    "bright_completed_hosts = saga.host_catalog.load(query=\"paper2_bright_complete\", include_stats=\"remote\")\n",
    "\n",
    "url = \"https://www.dropbox.com/sh/7qeuqkq0c591k2g/AADUIE4j1t2vXqKpaHoCY0L7a/saga_observed_latest.fits?dl=1\"\n",
    "specs_and_potential_sats = FitsTable(url).read()\n",
    "\n",
    "specs = C.has_spec.filter(specs_and_potential_sats)\n",
    "possible_sats = (~C.has_spec).filter(specs_and_potential_sats)\n",
    "\n",
    "sats_this_host = {}\n",
    "possible_sats_this_host = {}\n",
    "\n",
    "hosts = set(specs_and_potential_sats[\"HOSTID\"])\n",
    "for host in hosts:\n",
    "    sats_this_host[host] = (QueryMaker.equals(\"HOSTID\", host) & C.is_sat).filter(specs_and_potential_sats)\n",
    "    possible_sats_this_host[host] = (QueryMaker.equals(\"HOSTID\", host)&(~C.has_spec)).filter(specs_and_potential_sats)"
   ]
  },
  {
   "cell_type": "code",
   "execution_count": null,
   "metadata": {},
   "outputs": [],
   "source": [
    "num_draws = 10000\n",
    "\n",
    "sats_num_draws = {}\n",
    "mean = {}\n",
    "\n",
    "for host in completed_hosts:\n",
    "    sats_num_draws[host['HOSTID']] = []\n",
    "    Mr_possible = Mr_from_r(possible_sats_this_host[host['HOSTID']]['r_mag'],\n",
    "                            possible_sats_this_host[host['HOSTID']]['HOST_DIST'])\n",
    "    psat_possible = np.array(possible_sats_this_host[host['HOSTID']]['p_sat_corrected'][Mr_possible<-12.3])\n",
    "    for j in range(num_draws):\n",
    "        rands = np.random.rand(len(psat_possible))\n",
    "        sats_num_draws[host['HOSTID']].append(1.*host['sats_Mr_limit']+1.*len(rands[rands<psat_possible]))\n",
    "    mean[host['HOSTID']] = np.mean(np.array(sats_num_draws[host['HOSTID']]))"
   ]
  },
  {
   "cell_type": "code",
   "execution_count": null,
   "metadata": {},
   "outputs": [],
   "source": [
    "### MW \n",
    "mw = np.recfromcsv('EON_data/mw_sats_master.csv')\n",
    "MW = {}\n",
    "MW['M_K'] = -24.0\n",
    "MW['m_v'] = mw['m_v'][mw['type2']>=3]\n",
    "\n",
    "### M31\n",
    "M31 = {}\n",
    "M31['M_K'] = -24.7\n",
    "M31['m_v'] = np.array([-18.8,-16.5,-16.3,-15.8,-15.0,-15.5,-13.2,-12.5,-12.7,-12.0,-11.8,-10.2,-9.9,-11.5,-9.2,-9.2,\n",
    "                      -10.1,-8.4,-9.5,-10.1,-8.8,-8.1,-8.5,-8.8,-8.0,-8.0,-10.2,-8.8,-9.2])"
   ]
  },
  {
   "cell_type": "code",
   "execution_count": null,
   "metadata": {},
   "outputs": [],
   "source": [
    "plt.figure(figsize=(4.8,4.))\n",
    "\n",
    "for host in completed_hosts:\n",
    "    if host['HOSTID'] in paper1_hosts:\n",
    "        paper1 = plt.scatter(host['K_ABS'],host['sats_Mr_limit'],color='limegreen',s=50,zorder=2,label=r'Paper I hosts')\n",
    "        plotline1,caplines1,barlinecols1 = plt.errorbar(host['K_ABS'],host['sats_Mr_limit'],\n",
    "                                                        yerr=mean[host['HOSTID']]-host['sats_Mr_limit'],lolims=True,\n",
    "                                                        color='C2',zorder=1)\n",
    "    elif host['HOSTID'] == 'nsa147606':\n",
    "        plt.scatter(0.04+host['K_ABS'],host['sats_Mr_limit'],color='g',s=50,zorder=999)\n",
    "        plotline1,caplines1,barlinecols1 = plt.errorbar(0.04+host['K_ABS'],host['sats_Mr_limit'],\n",
    "                                                        yerr=mean[host['HOSTID']]-host['sats_Mr_limit'],lolims=True,\n",
    "                                                        color='g',zorder=1)\n",
    "    else:\n",
    "        paper2 = plt.scatter(host['K_ABS'],host['sats_Mr_limit'],color='g',s=50,zorder=999,label=r'New hosts, this work')\n",
    "        plotline1,caplines1,barlinecols1 = plt.errorbar(host['K_ABS'],host['sats_Mr_limit'],\n",
    "                                                        yerr=mean[host['HOSTID']]-host['sats_Mr_limit'],lolims=True,\n",
    "                                                        color='g',zorder=1)\n",
    "    caplines1[0].set_marker('_')\n",
    "    caplines1[0].set_markersize(0)\n",
    "\n",
    "#MW\n",
    "plt.scatter(MW['M_K'],1+len(MW['m_v'][MW['m_v']<-12.1]),facecolor='k',edgecolor='k',marker='*',s=120,zorder=999)\n",
    "plt.text(-24.2,5.2,r'$\\mathrm{MW}$',c='k',fontweight='bold',fontsize=12)\n",
    "\n",
    "#M31\n",
    "plt.scatter(M31['M_K'],len(M31['m_v'][M31['m_v']<-12.1]),facecolor='gray',edgecolor='gray',marker='*',s=120)\n",
    "plt.text(-24.85,9.45,r'$\\mathrm{M31}$',c='k',fontweight='bold',fontsize=12)\n",
    "\n",
    "plt.plot(np.ones(10)*-23.0,np.linspace(0,11.5,10),'k--',alpha=0.5)\n",
    "plt.plot(np.ones(10)*-24.6,np.linspace(0,11.5,10),'k--',alpha=0.5)\n",
    "\n",
    "#Ticks, labels, etc.\n",
    "plt.xlim(-24.9,-22.7)\n",
    "plt.ylim(-0.25,11.0)\n",
    "\n",
    "plt.xticks([-24.8,-24.4,-24.0,-23.6,-23.2,-22.8],[r'$-24.8$',r'$-24.4$',r'$-24.0$',r'$-23.6$',r'$-23.2$',r'$-22.8$'],\n",
    "           fontsize=14)\n",
    "plt.yticks([0,2,4,6,8,10],[r'$0$',r'$2$',r'$4$',r'$6$',r'$8$',r'$10$'],fontsize=14)\n",
    "\n",
    "plt.xlabel(r'Host galaxy $M_K$',fontsize=18,labelpad=8)\n",
    "plt.ylabel(r'$N_{\\rm{sats}}$',fontsize=18,labelpad=8)\n",
    "\n",
    "legend = plt.legend(loc=1,handles=[paper1,paper2],fontsize=12,frameon=True,handletextpad=0.15,\n",
    "                    bbox_to_anchor=(1.015,1.02), handlelength=0.9, markerfirst=False)\n",
    "legend.get_frame().set_linewidth(1.0)\n",
    "\n",
    "plt.tight_layout()\n",
    "plt.savefig('num_sat_host_mk_new.pdf', bbox_inches=\"tight\")\n",
    "plt.show()"
   ]
  },
  {
   "cell_type": "code",
   "execution_count": null,
   "metadata": {},
   "outputs": [],
   "source": []
  }
 ],
 "metadata": {
  "kernelspec": {
   "display_name": "Python 3",
   "language": "python",
   "name": "python3"
  },
  "language_info": {
   "codemirror_mode": {
    "name": "ipython",
    "version": 3
   },
   "file_extension": ".py",
   "mimetype": "text/x-python",
   "name": "python",
   "nbconvert_exporter": "python",
   "pygments_lexer": "ipython3",
   "version": "3.7.8"
  }
 },
 "nbformat": 4,
 "nbformat_minor": 4
}

{
 "cells": [
  {
   "cell_type": "markdown",
   "metadata": {},
   "source": [
    "### Imports and Settings"
   ]
  },
  {
   "cell_type": "code",
   "execution_count": null,
   "metadata": {},
   "outputs": [],
   "source": [
    "import pickle\n",
    "import os\n",
    "import numpy as np\n",
    "import matplotlib.pyplot as plt\n",
    "\n",
    "import SAGA\n",
    "from SAGA.database import FitsTable\n",
    "from easyquery import Query\n",
    "from easyquery import QueryMaker\n",
    "from SAGA import ObjectCuts as C\n",
    "from SAGA.utils.distance import d2m\n",
    "\n",
    "from scipy.stats import spearmanr"
   ]
  },
  {
   "cell_type": "markdown",
   "metadata": {},
   "source": [
    "### Load SAGA Data"
   ]
  },
  {
   "cell_type": "code",
   "execution_count": null,
   "metadata": {},
   "outputs": [],
   "source": [
    "saga = SAGA.QuickStart()\n",
    "saga.set_default_base_version(\"paper2\")"
   ]
  },
  {
   "cell_type": "code",
   "execution_count": null,
   "metadata": {},
   "outputs": [],
   "source": [
    "hosts = saga.host_catalog.load(include_stats=True, query=\"paper2_complete\")[\"HOSTID\", \"K_ABS\", \"sats_Mr_limit\"]"
   ]
  },
  {
   "cell_type": "code",
   "execution_count": null,
   "metadata": {},
   "outputs": [],
   "source": [
    "def annotate_base(base):\n",
    "    base[\"Mr_\"] = base[\"r_mag\"] - d2m(base[\"HOST_DIST\"])\n",
    "    base[\"Mr\"] = np.where(np.isfinite(base[\"Mr\"]) & C.has_spec.mask(base), base[\"Mr\"], base[\"Mr_\"])\n",
    "    base[\"log_sm\"] = np.where(np.isfinite(base[\"log_sm\"]), base[\"log_sm\"], 1.254 + 1.0976 * base[\"gr\"] - 0.4 * base[\"Mr\"])\n",
    "    return base"
   ]
  },
  {
   "cell_type": "code",
   "execution_count": null,
   "metadata": {},
   "outputs": [],
   "source": [
    "base = SAGA.database.FitsTable(\"/home/yymao/Documents/Research/SAGA/PaperII/data-archive/saga_base_all.fits\").read()\n",
    "base = saga.host_catalog.construct_host_query(\"paper2_complete\").filter(base)\n",
    "assert len(np.unique(base[\"HOSTID\"])) == 36\n",
    "\n",
    "base = annotate_base(base)"
   ]
  },
  {
   "cell_type": "code",
   "execution_count": null,
   "metadata": {},
   "outputs": [],
   "source": [
    "sats = C.is_sat.filter(base, [\"HOSTID\", \"Mr\"])\n",
    "possible_sats = Query(C.basic_cut2, ~C.has_spec, \"p_sat_corrected > 0\", C.r_abs_limit).filter(base, [\"HOSTID\", \"p_sat_corrected\"])"
   ]
  },
  {
   "cell_type": "code",
   "execution_count": null,
   "metadata": {},
   "outputs": [],
   "source": [
    "hosts[\"sats_correction\"] = [QueryMaker.equals(\"HOSTID\", h).filter(possible_sats, \"p_sat_corrected\").sum() for h in hosts[\"HOSTID\"]] \n",
    "hosts[\"sats_brightest\"] = [s.min() if len(s := QueryMaker.equals(\"HOSTID\", h).filter(sats, \"Mr\")) else 0 for h in hosts[\"HOSTID\"]]\n",
    "hosts[\"sats_check\"] = [Query(C.r_abs_limit, QueryMaker.equals(\"HOSTID\", h)).count(sats) for h in hosts[\"HOSTID\"]]\n",
    "\n",
    "hosts[\"K_PLOT\"] = np.where(QueryMaker.equals(\"HOSTID\", \"nsa147606\").mask(hosts), hosts[\"K_ABS\"] + 0.04, hosts[\"K_ABS\"])"
   ]
  },
  {
   "cell_type": "code",
   "execution_count": null,
   "metadata": {},
   "outputs": [],
   "source": [
    "assert (hosts[\"sats_Mr_limit\"] == hosts[\"sats_check\"]).all()\n",
    "\n",
    "hosts"
   ]
  },
  {
   "cell_type": "code",
   "execution_count": null,
   "metadata": {},
   "outputs": [],
   "source": [
    "fig, ax = plt.subplots(ncols=2, figsize=(10,4))\n",
    "\n",
    "\n",
    "ax[0].axvline(-23.0, ls='--', color='k', alpha=0.5)\n",
    "ax[0].axvline(-24.6, ls='--', color='k', alpha=0.5)\n",
    "\n",
    "hosts_this = saga.host_catalog.construct_host_query(\"paper1_complete\").filter(hosts)\n",
    "\n",
    "ax[0].errorbar(hosts_this[\"K_PLOT\"], hosts_this[\"sats_Mr_limit\"], \n",
    "               yerr=(np.zeros(len(hosts_this)), hosts_this[\"sats_correction\"]),\n",
    "               capsize=0, marker='o', ls='', ms=7, color=\"limegreen\", label=\"Paper I systems\")\n",
    "\n",
    "hosts_this = Query(\"sats_Mr_limit > 0\").filter(hosts_this)\n",
    "\n",
    "ax[1].errorbar(hosts_this[\"sats_brightest\"], hosts_this[\"sats_Mr_limit\"], \n",
    "               yerr=(np.zeros(len(hosts_this)), hosts_this[\"sats_correction\"]),\n",
    "               capsize=0, marker='o', ls='', ms=7, color=\"limegreen\", label=\"Paper I systems\")\n",
    "\n",
    "\n",
    "hosts_this = (~saga.host_catalog.construct_host_query(\"paper1_complete\")).filter(hosts)\n",
    "\n",
    "ax[0].errorbar(hosts_this[\"K_PLOT\"], hosts_this[\"sats_Mr_limit\"], \n",
    "               yerr=(np.zeros(len(hosts_this)), hosts_this[\"sats_correction\"]),\n",
    "               capsize=0, marker='o', ls='', ms=7, color=\"g\", label=\"New from this work\")\n",
    "\n",
    "hosts_this = Query(\"sats_Mr_limit > 0\").filter(hosts_this)\n",
    "\n",
    "ax[1].errorbar(hosts_this[\"sats_brightest\"], hosts_this[\"sats_Mr_limit\"], \n",
    "               yerr=(np.zeros(len(hosts_this)), hosts_this[\"sats_correction\"]),\n",
    "               capsize=0, marker='o', ls='', ms=7, color=\"g\", label=\"New from this work\")\n",
    "\n",
    "#MW\n",
    "ax[0].plot(-24, 5, color='k', marker='*', ms=11, zorder=999, ls=\"\")\n",
    "ax[0].text(-24, 5, 'MW', fontweight='bold', va=\"bottom\", ha=\"right\")\n",
    "\n",
    "#M31\n",
    "ax[0].plot(-24.7, 9, color='grey', marker='*', ms=11, zorder=999, ls=\"\")\n",
    "ax[0].text(-24.65, 9.25, 'M31', color='grey', fontweight='bold', va=\"bottom\", ha=\"right\")\n",
    "\n",
    "#MW\n",
    "ax[1].plot(-18.5, 5, color='k', marker='*', ms=11, zorder=999, ls=\"\")\n",
    "\n",
    "#M31\n",
    "ax[1].plot(-19.2, 9, color='grey', marker='*', ms=11, zorder=999, ls=\"\")\n",
    "\n",
    "ax[1].legend(loc=\"upper right\", markerfirst=False, frameon=True, handletextpad=0.1, handlelength=1)\n",
    "\n",
    "ax[0].set_ylim(-0.25, 11)\n",
    "ax[1].set_ylim(-0.25, 11)\n",
    "ax[0].set_ylabel(r'$N_\\mathrm{sats} \\, (M_{r,o} > -12.3)}$')\n",
    "\n",
    "ax[0].set_xlim(-24.9, -22.8)\n",
    "ax[0].set_xticks(np.arange(-24.8, -22.7, 0.4));\n",
    "ax[0].set_xlabel('Host galaxy  $M_K$ [mag]');\n",
    "\n",
    "ax[1].set_xlim(-20.5, -13.5)\n",
    "ax[1].set_xticks(np.arange(-20, -13.9, 1));\n",
    "ax[1].set_xlabel('Brightest satellite  $M_{r,o}$ [mag]');\n",
    "\n",
    "plt.tight_layout()\n",
    "plt.savefig('/home/yymao/Downloads/num_sat_host_mk_new.pdf', bbox_inches=\"tight\")"
   ]
  },
  {
   "cell_type": "code",
   "execution_count": null,
   "metadata": {},
   "outputs": [],
   "source": [
    "spearmanr(hosts[\"K_ABS\"], hosts[\"sats_Mr_limit\"])"
   ]
  },
  {
   "cell_type": "code",
   "execution_count": null,
   "metadata": {},
   "outputs": [],
   "source": [
    "hosts_this = Query(\"sats_Mr_limit > 0\").filter(hosts_this)\n",
    "spearmanr(hosts_this[\"sats_brightest\"], hosts_this[\"sats_Mr_limit\"])"
   ]
  },
  {
   "cell_type": "code",
   "execution_count": null,
   "metadata": {},
   "outputs": [],
   "source": []
  }
 ],
 "metadata": {
  "kernelspec": {
   "display_name": "Python 3",
   "language": "python",
   "name": "python3"
  },
  "language_info": {
   "codemirror_mode": {
    "name": "ipython",
    "version": 3
   },
   "file_extension": ".py",
   "mimetype": "text/x-python",
   "name": "python",
   "nbconvert_exporter": "python",
   "pygments_lexer": "ipython3",
   "version": "3.8.6"
  }
 },
 "nbformat": 4,
 "nbformat_minor": 4
}

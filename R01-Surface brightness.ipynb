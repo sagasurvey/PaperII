{
 "cells": [
  {
   "cell_type": "raw",
   "metadata": {},
   "source": [
    "import sys\n",
    "sys.path.insert(0, \"/home/yymao/Dropbox/Academia/Collaborations/SAGA-local/saga\")"
   ]
  },
  {
   "cell_type": "code",
   "execution_count": null,
   "metadata": {},
   "outputs": [],
   "source": [
    "import numpy as np\n",
    "import matplotlib.pyplot as plt\n",
    "\n",
    "from itertools import combinations\n",
    "from collections import Counter, defaultdict\n",
    "from astropy.table import Table, join, vstack\n",
    "from astropy.coordinates import SkyCoord, Distance\n",
    "from SAGA.utils import add_skycoord\n",
    "from easyquery import Query, QueryMaker\n",
    "from astropy.io import ascii\n",
    "\n",
    "import SAGA\n",
    "from SAGA.database import FitsTable, GoogleSheets\n",
    "from SAGA import ObjectCuts as C\n",
    "from SAGA.utils import add_skycoord, fill_values_by_query\n",
    "from SAGA.utils.distance import z2v, d2m, m2d\n",
    "from SAGA.utils.display import show_images\n",
    "from SAGA.objects.object_catalog import calc_fiducial_p_sat, calc_fiducial_p_sat_corrected\n",
    "\n",
    "from matplotlib.transforms import Bbox\n",
    "\n",
    "print(SAGA.__version__)"
   ]
  },
  {
   "cell_type": "code",
   "execution_count": null,
   "metadata": {},
   "outputs": [],
   "source": [
    "saga = SAGA.QuickStart()\n",
    "saga.set_default_base_version(\"paper2\")"
   ]
  },
  {
   "cell_type": "code",
   "execution_count": null,
   "metadata": {},
   "outputs": [],
   "source": [
    "def annotate_base(base):\n",
    "    base[\"Mr_\"] = base[\"r_mag\"] - d2m(base[\"HOST_DIST\"])\n",
    "    base[\"Mr\"] = np.where(np.isfinite(base[\"Mr\"]) & C.has_spec.mask(base), base[\"Mr\"], base[\"Mr_\"])\n",
    "    base[\"log_sm\"] = np.where(np.isfinite(base[\"log_sm\"]), base[\"log_sm\"], 1.254 + 1.0976 * base[\"gr\"] - 0.4 * base[\"Mr\"])\n",
    "    \n",
    "    base[\"human_selected\"] = 0\n",
    "    hs = saga.database[\"human_selected\"].read()\n",
    "    for i in range(1, 4):\n",
    "        base[\"human_selected\"] += np.in1d(base[\"OBJID\"], Query(f\"score == {i}\").filter(hs, \"OBJID\")).astype(np.int) * i\n",
    "\n",
    "    return base"
   ]
  },
  {
   "cell_type": "code",
   "execution_count": null,
   "metadata": {},
   "outputs": [],
   "source": [
    "base = SAGA.database.FitsTable(\"/home/yymao/Documents/Research/SAGA/PaperII/data-archive/saga_base_all.fits\").read()\n",
    "base = saga.host_catalog.construct_host_query(\"paper2_complete\").filter(base)\n",
    "assert len(np.unique(base[\"HOSTID\"])) == 36\n",
    "\n",
    "base = annotate_base(base)"
   ]
  },
  {
   "cell_type": "code",
   "execution_count": null,
   "metadata": {},
   "outputs": [],
   "source": [
    "nsat_missing_all = int(np.ceil(Query(~C.has_spec, C.faint_end_limit).filter(base, \"p_sat_corrected\").sum()))\n",
    "nsat_missing_limit = int(np.ceil(Query(~C.has_spec, C.r_abs_limit).filter(base, \"p_sat_corrected\").sum()))\n",
    "print(nsat_missing_all, nsat_missing_limit)"
   ]
  },
  {
   "cell_type": "code",
   "execution_count": null,
   "metadata": {},
   "outputs": [],
   "source": [
    "sats = C.is_sat.filter(base)\n",
    "sats_maybe_all = Query(~C.has_spec, \"p_sat_corrected > 0\").filter(base)"
   ]
  },
  {
   "cell_type": "code",
   "execution_count": null,
   "metadata": {},
   "outputs": [],
   "source": [
    "seed = 1177 #923 #444 #177 # 114 # 47\n",
    "while True:\n",
    "    #seed += 1\n",
    "    sats_maybe = Query(\n",
    "        (lambda p: p > np.random.RandomState(seed).rand(len(p)), \"p_sat_corrected\"),  # must put in 1st place\n",
    "        ~C.has_spec, \n",
    "    ).filter(base)\n",
    "\n",
    "    if (np.abs((C.faint_end_limit.count(sats_maybe) - nsat_missing_all) < 1.5 and\n",
    "        C.r_abs_limit.count(sats_maybe)) == nsat_missing_limit and\n",
    "        (~Query(C.high_priority_sb_tight, C.gr_cut_tight, \"Mr > -15.5\")).count(sats_maybe) == 0):\n",
    "        print(seed)\n",
    "        break\n",
    "    else:\n",
    "        seed += 1\n",
    "        \n",
    "print(C.r_abs_limit.count(sats_maybe), len(sats_maybe))"
   ]
  },
  {
   "cell_type": "code",
   "execution_count": null,
   "metadata": {},
   "outputs": [],
   "source": [
    "assert len(sats) == 127\n",
    "assert C.r_abs_limit.count(sats) == 123\n",
    "assert Query(\"EW_Halpha < 2\").count(sats) == 18\n",
    "assert Query(\"EW_Halpha < 2\", C.r_abs_limit).count(sats) == 18\n",
    "assert Query(\"EW_Halpha < 2\", \"Mr < -16\").count(sats) == 2\n",
    "assert len(np.unique(sats[\"HOSTID\"])) == 34"
   ]
  },
  {
   "cell_type": "code",
   "execution_count": null,
   "metadata": {},
   "outputs": [],
   "source": [
    "is_p1_sats = Query(C.is_sat, saga.host_catalog.construct_host_query(\"paper1_complete\"), QueryMaker.in1d(\"OBJID\", [4443380000000000475, 3115540000000003218], invert=True))"
   ]
  },
  {
   "cell_type": "code",
   "execution_count": null,
   "metadata": {},
   "outputs": [],
   "source": [
    "lg = SAGA.database.FitsTable(\"../data/McConnachie2012.fit\").read()\n",
    "lg[\"Mr\"] = lg[\"vmag_lc\"] - 0.4\n",
    "#lg[\"SubG\"][np.argmax(lg[\"Name\"] == \"Pegasus dIrr\")] = \"M31 \"\n",
    "#lg = (Query((np.isfinite, \"vmag_lc\"), ~QueryMaker.equals(\"Name\", \"Canis Major\"))).filter(lg)\n",
    "\n",
    "mw_sat_mr = np.asarray(np.sort(QueryMaker.equals(\"SubG\", \"MW  \").filter(lg, \"Mr\")))\n",
    "m31_sat_mr = np.asarray(np.sort(QueryMaker.equals(\"SubG\", \"M31 \").filter(lg, \"Mr\")))"
   ]
  },
  {
   "cell_type": "code",
   "execution_count": null,
   "metadata": {},
   "outputs": [],
   "source": [
    "lg"
   ]
  },
  {
   "cell_type": "code",
   "execution_count": null,
   "metadata": {},
   "outputs": [],
   "source": [
    "lg[\"sb_v\"] = lg[\"Vmag\"] + 2.5 * np.log10(2 * np.pi * (1-lg[\"Ell\"]) * (lg[\"R1\"] * 60)**2)\n",
    "lg[\"sb_r\"] = lg[\"Vmag\"] - 0.4 + 2.5 * np.log10(2 * np.pi * (1-lg[\"Ell\"]) * (lg[\"R1\"] * 60)**2)"
   ]
  },
  {
   "cell_type": "code",
   "execution_count": null,
   "metadata": {},
   "outputs": [],
   "source": [
    "from matplotlib.ticker import (MultipleLocator, FormatStrFormatter,\n",
    "                               AutoMinorLocator)"
   ]
  },
  {
   "cell_type": "code",
   "execution_count": null,
   "metadata": {},
   "outputs": [],
   "source": [
    "plt.scatter(sats[\"Mr\"], sats[\"sb_r\"], c=\"C2\", s=11, alpha=0.8, label=\"SAGA satellites\")\n",
    "plt.scatter(sats_maybe[\"Mr\"], sats_maybe[\"sb_r\"], marker='o', c='None', edgecolors='k', s=11, lw=0.5)\n",
    "plt.scatter(lg[\"Mr\"], lg[\"sb_r\"], c=\"C1\", marker=\"*\", s=17, label=\"Local Group dwarfs\\n(McConnachie 2012)\")\n",
    "\n",
    "plt.axvspan(-12.3, 0, color=\"grey\", alpha=0.5)\n",
    "plt.ylim(31, 16)\n",
    "plt.xlim(-1, -20)\n",
    "\n",
    "ax = plt.gca()\n",
    "ax.set_xticks(np.arange(-2, -21, -2))\n",
    "ax.set_xticks(np.arange(-1, -20.4, -0.5), minor=True)\n",
    "\n",
    "ax.set_yticks(np.arange(30, 15, -2))\n",
    "ax.set_yticks(np.arange(31, 15.6, -0.5), minor=True)\n",
    "\n",
    "plt.text(-16.14, 30.2, \"$\\\\leftarrow$     SAGA range    $\\\\rightarrow$\", ha=\"center\", fontsize=14)\n",
    "plt.xlabel(\"$M_{r,o}$\")\n",
    "plt.ylabel(\"$\\\\mu_{{\\\\rm eff}, r_o}$  [mag arcsec$^{-2}$]\")\n",
    "plt.legend(loc=\"upper left\", fontsize=14, handletextpad=0.1)"
   ]
  },
  {
   "cell_type": "code",
   "execution_count": null,
   "metadata": {},
   "outputs": [],
   "source": [
    "Query(\"Mr < -12.3\", \"sb_r > 25.1\").filter(lg)"
   ]
  },
  {
   "cell_type": "code",
   "execution_count": null,
   "metadata": {},
   "outputs": [],
   "source": [
    "Query(\"Mr < -12.3\").filter(lg)"
   ]
  },
  {
   "cell_type": "code",
   "execution_count": null,
   "metadata": {},
   "outputs": [],
   "source": [
    "3/37*123"
   ]
  },
  {
   "cell_type": "code",
   "execution_count": null,
   "metadata": {},
   "outputs": [],
   "source": [
    "plt.hist(Query(\"Mr < -15\").filter(sats_this, 'log_sm'))"
   ]
  },
  {
   "cell_type": "code",
   "execution_count": null,
   "metadata": {},
   "outputs": [],
   "source": [
    "SAGA.database.GoogleSheets(\"1O8tGgnHXRcAT8P78J3V2pWVb3CWE1Hvcowily79tdg4\", 0).read()"
   ]
  },
  {
   "cell_type": "code",
   "execution_count": null,
   "metadata": {},
   "outputs": [],
   "source": []
  }
 ],
 "metadata": {
  "kernelspec": {
   "display_name": "Python 3",
   "language": "python",
   "name": "python3"
  },
  "language_info": {
   "codemirror_mode": {
    "name": "ipython",
    "version": 3
   },
   "file_extension": ".py",
   "mimetype": "text/x-python",
   "name": "python",
   "nbconvert_exporter": "python",
   "pygments_lexer": "ipython3",
   "version": "3.8.6"
  }
 },
 "nbformat": 4,
 "nbformat_minor": 4
}

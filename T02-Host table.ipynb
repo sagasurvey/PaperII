{
 "cells": [
  {
   "cell_type": "raw",
   "metadata": {},
   "source": [
    "import sys\n",
    "sys.path.insert(0, \"/home/yymao/Dropbox/Academia/Collaborations/SAGA-local/saga\")"
   ]
  },
  {
   "cell_type": "code",
   "execution_count": null,
   "metadata": {},
   "outputs": [],
   "source": [
    "import SAGA\n",
    "from easyquery import Query, QueryMaker\n",
    "from SAGA.database import FitsTable\n",
    "from SAGA import HostCuts as H\n",
    "from astropy.table import join\n",
    "from SAGA.utils import join_str_arr"
   ]
  },
  {
   "cell_type": "code",
   "execution_count": null,
   "metadata": {},
   "outputs": [],
   "source": [
    "saga = SAGA.QuickStart()\n",
    "saga.set_default_base_version(\"paper2\")"
   ]
  },
  {
   "cell_type": "code",
   "execution_count": null,
   "metadata": {},
   "outputs": [],
   "source": [
    "hosts = saga.host_catalog.load(include_stats=True, query=\"paper2_complete\")\n",
    "print(len(hosts))"
   ]
  },
  {
   "cell_type": "code",
   "execution_count": null,
   "metadata": {},
   "outputs": [],
   "source": [
    "hosts['phot_coverage'] = join_str_arr(\n",
    "    np.where(Query('COVERAGE_SDSS > 0.95').mask(hosts), 'S', '-'),\n",
    "    np.where(Query('COVERAGE_DES_DR1 > 0.95').mask(hosts), 'D', '-'),\n",
    "    np.where(Query('(COVERAGE_DECALS_DR6 > 0.95) | (COVERAGE_DECALS_DR7 > 0.95)').mask(hosts), 'L', '-'),\n",
    ")\n",
    "hosts['sats_below'] = np.where(hosts['sats_Mr_limit'] == hosts['sats_total'], '', np.char.mod('(%d)', hosts['sats_total']-hosts['sats_Mr_limit']))\n",
    "hosts[\"spec_coverage\"] = 100*(1-hosts[\"paper2_need_spec\"] / hosts[\"paper2_total\"])\n",
    "hosts['internal_name'] = np.where(hosts[\"SAGA_NAME\"] != \"\", hosts[\"SAGA_NAME\"], hosts[\"HOSTID\"])"
   ]
  },
  {
   "cell_type": "code",
   "execution_count": null,
   "metadata": {},
   "outputs": [],
   "source": [
    "t = hosts['COMMON_NAME', 'internal_name', 'RA', \"DEC\", 'V_HELIO', 'DIST', 'K_ABS', 'phot_coverage', 'spec_coverage', 'sats_Mr_limit', 'sats_below', 'sats_missed_corrected']\n",
    "\n",
    "t.sort('RA')\n",
    "\n",
    "t['RA'].format = '%.3f'\n",
    "t['DEC'].format = '%.3f'\n",
    "t['V_HELIO'].format = '%d'\n",
    "t['DIST'].format = '%.1f'\n",
    "t['K_ABS'].format = '%.2f'\n",
    "t['sats_missed_corrected'].format = '%.2f'\n",
    "t['spec_coverage'].format = '%.1f'"
   ]
  },
  {
   "cell_type": "code",
   "execution_count": null,
   "metadata": {},
   "outputs": [],
   "source": [
    "colheads = [\n",
    "    \"Common\\nName\",\n",
    "    \"SAGA\\nName\",\n",
    "    \"R.A.\\n[deg]\",\n",
    "    \"Dec.\\n[deg]\",\n",
    "    \"HRV\\n[\\\\kms]\",\n",
    "    \"$D$\\n[Mpc]\",\n",
    "    \"$M_{K,o}$\\n[mag]\",\n",
    "    \"Phot.\\nCoverage\",\n",
    "    \"Spec.\\nCoverage (\\%)\",\n",
    "    \"Confirmed\\n$N_\\\\text{sat}$\",\n",
    "    \"Miss.\\n$N_\\\\text{sat}$\"\n",
    "]"
   ]
  },
  {
   "cell_type": "code",
   "execution_count": null,
   "metadata": {},
   "outputs": [],
   "source": [
    "colheads_formatted = [[], [], []]\n",
    "for i, colhead in enumerate(colheads):\n",
    "    colhead = colhead.splitlines()\n",
    "    while len(colhead) < 2:\n",
    "        colhead.insert(0, \"~\")\n",
    "    colhead.append(f\"({i+1})\")\n",
    "    for new, l in zip(colheads_formatted, colhead):\n",
    "        new.append(l)"
   ]
  },
  {
   "cell_type": "code",
   "execution_count": null,
   "metadata": {},
   "outputs": [],
   "source": [
    "print(\"\\\\\\\\[-6pt]\\n\".join((\" & \".join((f\"\\colhead{{{i}}}\" for i in row)) for row in colheads_formatted)))"
   ]
  },
  {
   "cell_type": "code",
   "execution_count": null,
   "metadata": {},
   "outputs": [],
   "source": [
    "from io import StringIO\n",
    "o = StringIO()\n",
    "t.write(o, format=\"ascii.aastex\")\n",
    "o.seek(0)\n",
    "\n",
    "for line in o:\n",
    "    line = line.strip()\n",
    "    if line[0] != \"\\\\\":\n",
    "        print(line)"
   ]
  },
  {
   "cell_type": "code",
   "execution_count": null,
   "metadata": {},
   "outputs": [],
   "source": []
  }
 ],
 "metadata": {
  "kernelspec": {
   "display_name": "Python 3",
   "language": "python",
   "name": "python3"
  },
  "language_info": {
   "codemirror_mode": {
    "name": "ipython",
    "version": 3
   },
   "file_extension": ".py",
   "mimetype": "text/x-python",
   "name": "python",
   "nbconvert_exporter": "python",
   "pygments_lexer": "ipython3",
   "version": "3.7.8"
  }
 },
 "nbformat": 4,
 "nbformat_minor": 4
}

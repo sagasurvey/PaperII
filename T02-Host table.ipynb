{
 "cells": [
  {
   "cell_type": "raw",
   "metadata": {},
   "source": [
    "import sys\n",
    "sys.path.insert(0, \"/home/yymao/Dropbox/Academia/Collaborations/SAGA-local/saga\")"
   ]
  },
  {
   "cell_type": "code",
   "execution_count": 1,
   "metadata": {},
   "outputs": [],
   "source": [
    "import SAGA\n",
    "from easyquery import Query, QueryMaker\n",
    "from SAGA.database import FitsTable\n",
    "from SAGA import HostCuts as H\n",
    "from astropy.table import join\n",
    "from SAGA.utils import join_str_arr"
   ]
  },
  {
   "cell_type": "code",
   "execution_count": 2,
   "metadata": {},
   "outputs": [
    {
     "name": "stdout",
     "output_type": "stream",
     "text": [
      "SAGA `shared_dir` set to /home/yymao/Dropbox/Academia/Collaborations/SAGA\n",
      "SAGA `local_dir`  set to /home/yymao/Documents/Research/SAGA\n"
     ]
    }
   ],
   "source": [
    "saga = SAGA.QuickStart()\n",
    "saga.set_default_base_version(\"paper2\")"
   ]
  },
  {
   "cell_type": "code",
   "execution_count": 3,
   "metadata": {},
   "outputs": [
    {
     "name": "stdout",
     "output_type": "stream",
     "text": [
      "36\n"
     ]
    }
   ],
   "source": [
    "hosts = saga.host_catalog.load(include_stats=True, query=\"paper2_complete\")\n",
    "print(len(hosts))"
   ]
  },
  {
   "cell_type": "code",
   "execution_count": 4,
   "metadata": {},
   "outputs": [],
   "source": [
    "hosts['phot_coverage'] = join_str_arr(\n",
    "    np.where(Query('COVERAGE_SDSS > 0.85').mask(hosts), 'S', '-'),\n",
    "    np.where(Query('COVERAGE_DES_DR1 > 0.85').mask(hosts), 'D', '-'),\n",
    "    np.where(Query('(COVERAGE_DECALS_DR6 > 0.95) | (COVERAGE_DECALS_DR7 > 0.95)').mask(hosts), 'L', '-'),\n",
    ")\n",
    "hosts['sats_below'] = np.where(hosts['sats_Mr_limit'] == hosts['sats_total'], '', np.char.mod('(%d)', hosts['sats_total']-hosts['sats_Mr_limit']))\n",
    "hosts[\"spec_coverage\"] = 100*(1-hosts[\"paper2_need_spec\"] / hosts[\"paper2_total\"])\n",
    "hosts['internal_name'] = np.where(hosts[\"SAGA_NAME\"] != \"\", hosts[\"SAGA_NAME\"], hosts[\"HOSTID\"])"
   ]
  },
  {
   "cell_type": "code",
   "execution_count": 5,
   "metadata": {},
   "outputs": [],
   "source": [
    "t = hosts['COMMON_NAME', 'internal_name', 'RA', \"DEC\", 'V_HELIO', 'DIST', 'K_ABS', 'phot_coverage', 'spec_coverage', 'sats_Mr_limit', 'sats_below', 'sats_missed_corrected']\n",
    "\n",
    "t.sort('RA')\n",
    "\n",
    "t['RA'].format = '%.3f'\n",
    "t['DEC'].format = '%.3f'\n",
    "t['V_HELIO'].format = '%d'\n",
    "t['DIST'].format = '%.1f'\n",
    "t['K_ABS'].format = '%.2f'\n",
    "t['sats_missed_corrected'].format = '%.2f'\n",
    "t['spec_coverage'].format = '%.1f'"
   ]
  },
  {
   "cell_type": "code",
   "execution_count": 6,
   "metadata": {},
   "outputs": [],
   "source": [
    "colheads = [\n",
    "    \"Common\\nName\",\n",
    "    \"SAGA\\nName\",\n",
    "    \"R.A.\\n[deg]\",\n",
    "    \"Dec.\\n[deg]\",\n",
    "    \"HRV\\n[\\\\kms]\",\n",
    "    \"$D$\\n[Mpc]\",\n",
    "    \"$M_{K,o}$\\n[mag]\",\n",
    "    \"Phot.\\nCoverage\",\n",
    "    \"Spec.\\nCoverage (\\%)\",\n",
    "    \"Confirmed\\n$N_\\\\text{sat}$\",\n",
    "    \"Miss.\\n$N_\\\\text{sat}$\"\n",
    "]"
   ]
  },
  {
   "cell_type": "code",
   "execution_count": 7,
   "metadata": {},
   "outputs": [],
   "source": [
    "colheads_formatted = [[], [], []]\n",
    "for i, colhead in enumerate(colheads):\n",
    "    colhead = colhead.splitlines()\n",
    "    while len(colhead) < 2:\n",
    "        colhead.insert(0, \"~\")\n",
    "    colhead.append(f\"({i+1})\")\n",
    "    for new, l in zip(colheads_formatted, colhead):\n",
    "        new.append(l)"
   ]
  },
  {
   "cell_type": "code",
   "execution_count": 8,
   "metadata": {},
   "outputs": [
    {
     "name": "stdout",
     "output_type": "stream",
     "text": [
      "\\colhead{Common} & \\colhead{SAGA} & \\colhead{R.A.} & \\colhead{Dec.} & \\colhead{HRV} & \\colhead{$D$} & \\colhead{$M_{K,o}$} & \\colhead{Phot.} & \\colhead{Spec.} & \\colhead{Confirmed} & \\colhead{Miss.}\\\\[-6pt]\n",
      "\\colhead{Name} & \\colhead{Name} & \\colhead{[deg]} & \\colhead{[deg]} & \\colhead{[\\kms]} & \\colhead{[Mpc]} & \\colhead{[mag]} & \\colhead{Coverage} & \\colhead{Coverage (\\%)} & \\colhead{$N_\\text{sat}$} & \\colhead{$N_\\text{sat}$}\\\\[-6pt]\n",
      "\\colhead{(1)} & \\colhead{(2)} & \\colhead{(3)} & \\colhead{(4)} & \\colhead{(5)} & \\colhead{(6)} & \\colhead{(7)} & \\colhead{(8)} & \\colhead{(9)} & \\colhead{(10)} & \\colhead{(11)}\n"
     ]
    }
   ],
   "source": [
    "print(\"\\\\\\\\[-6pt]\\n\".join((\" & \".join((f\"\\colhead{{{i}}}\" for i in row)) for row in colheads_formatted)))"
   ]
  },
  {
   "cell_type": "code",
   "execution_count": 9,
   "metadata": {},
   "outputs": [
    {
     "name": "stdout",
     "output_type": "stream",
     "text": [
      "UGC00903 & HarryPotter & 20.449 & 17.592 & 2516 & 38.4 & -23.54 & S-L & 92.4 & 4 &  & 0.46 \\\\\n",
      "NGC1015 & Narnia & 39.548 & -1.319 & 2625 & 37.0 & -23.50 & SDL & 95.9 & 2 &  & 0.60 \\\\\n",
      "NGC1309 & nsa133355 & 50.527 & -15.400 & 2136 & 34.3 & -23.57 & -DL & 89.7 & 3 &  & 0.97 \\\\\n",
      "PGC013646 & nsa133549 & 55.734 & -12.916 & 2163 & 31.9 & -23.14 & -DL & 82.9 & 3 &  & 1.15 \\\\\n",
      "ESO121-026 & pgc18880 & 95.412 & -59.740 & 2266 & 35.0 & -23.71 & -D- & 85.6 & 2 &  & 0.12 \\\\\n",
      "NGC2543 & StarTrek & 123.241 & 36.255 & 2470 & 37.6 & -23.46 & S-L & 91.7 & 2 &  & 1.00 \\\\\n",
      "UGC04906 & nsa16235 & 139.416 & 52.993 & 2273 & 36.1 & -23.36 & S-L & 81.1 & 6 &  & 2.54 \\\\\n",
      "NGC2962 & nsa157374 & 145.225 & 5.166 & 1958 & 34.8 & -24.05 & S-L & 91.9 & 4 &  & 1.33 \\\\\n",
      "NGC2967 & nsa32 & 145.514 & 0.336 & 1892 & 29.9 & -23.51 & S-L & 88.8 & 1 & (1) & 0.69 \\\\\n",
      "NGC3689 & nsa139467 & 172.046 & 25.661 & 2737 & 39.8 & -23.80 & S-L & 93.8 & 2 &  & 0.98 \\\\\n",
      "NGC3976 & nsa140458 & 178.989 & 6.750 & 2496 & 35.9 & -24.00 & S-L & 82.2 & 2 &  & 2.21 \\\\\n",
      "NGC4158 & ScoobyDoo & 182.792 & 20.176 & 2450 & 36.2 & -23.04 & S-L & 90.5 & 5 &  & 0.85 \\\\\n",
      "NGC4348 & nsa3469 & 185.975 & -3.443 & 2005 & 29.7 & -23.46 & S-L & 98.3 & 0 & (1) & 0.65 \\\\\n",
      "NGC4454 & nsa141465 & 187.211 & -1.939 & 2329 & 35.3 & -23.69 & S-L & 95.5 & 4 &  & 0.55 \\\\\n",
      "NGC5297 & nsa143856 & 206.599 & 43.872 & 2405 & 35.5 & -23.85 & S-L & 83.3 & 7 &  & 0.50 \\\\\n",
      "NGC5347 & nsa94340 & 208.324 & 33.491 & 2371 & 34.6 & -23.04 & S-L & 92.2 & 2 &  & 2.02 \\\\\n",
      "NGC5448 & nsa69028 & 210.708 & 49.173 & 2013 & 33.5 & -23.82 & S-L & 82.8 & 5 &  & 1.28 \\\\\n",
      "NGC5602 & nsa144953 & 215.578 & 50.501 & 2221 & 34.0 & -23.05 & S-L & 86.9 & 5 &  & 1.13 \\\\\n",
      "NGC5604 & nsa35340 & 216.178 & -3.212 & 2749 & 39.0 & -23.25 & S-L & 93.8 & 3 &  & 0.89 \\\\\n",
      "NGC5633 & nsa51348 & 216.868 & 46.147 & 2325 & 34.6 & -23.09 & S-L & 80.2 & 0 &  & 0.53 \\\\\n",
      "NGC5690 & nsa145372 & 219.421 & 2.291 & 1756 & 26.3 & -23.14 & S-L & 97.4 & 3 &  & 1.15 \\\\\n",
      "NGC5750 & Dune & 221.546 & -0.223 & 1659 & 25.3 & -23.57 & S-L & 95.7 & 1 &  & 0.80 \\\\\n",
      "NGC5792 & Othello & 224.594 & -1.091 & 1924 & 28.3 & -24.55 & S-L & 94.7 & 3 &  & 0.64 \\\\\n",
      "NGC5869 & nsa145879 & 227.456 & 0.470 & 2074 & 30.1 & -23.66 & S-L & 91.8 & 0 &  & 1.40 \\\\\n",
      "NGC5962 & Gilgamesh & 234.132 & 16.608 & 1963 & 27.9 & -23.70 & S-L & 94.9 & 2 &  & 0.86 \\\\\n",
      "NGC6181 & Odyssey & 248.088 & 19.824 & 2370 & 33.6 & -23.97 & S-L & 97.4 & 9 & (1) & 0.77 \\\\\n",
      "NGC6278 & nsa147606 & 255.210 & 23.011 & 2795 & 39.3 & -23.98 & S-L & 100.0 & 9 &  & 0.07 \\\\\n",
      "NGC6909 & pgc64725 & 306.912 & -47.027 & 2778 & 35.6 & -23.52 & -D- & 85.3 & 4 &  & 0.39 \\\\\n",
      "NGC7029 & pgc66318 & 317.967 & -49.284 & 2783 & 38.1 & -24.35 & -D- & 89.5 & 5 &  & 2.04 \\\\\n",
      "NGC7079 & pgc66934 & 323.147 & -44.068 & 2653 & 36.4 & -24.22 & -D- & 96.3 & 4 &  & 0.06 \\\\\n",
      "ESO288-025 & pgc67782 & 329.824 & -43.867 & 2493 & 34.1 & -23.12 & -D- & 95.0 & 2 &  & 0.33 \\\\\n",
      "NGC7166 & pgc67817 & 330.137 & -43.390 & 2458 & 33.5 & -24.08 & -D- & 81.8 & 6 &  & 1.43 \\\\\n",
      "PGC068743 & OBrother & 335.913 & -3.432 & 2865 & 39.1 & -23.81 & S-L & 98.0 & 5 &  & 0.53 \\\\\n",
      "NGC7328 & nsa149977 & 339.372 & 10.532 & 2824 & 38.9 & -23.32 & S-L & 84.2 & 1 &  & 0.14 \\\\\n",
      "NGC7541 & Catch22 & 348.683 & 4.534 & 2680 & 38.1 & -24.57 & S-L & 94.9 & 5 & (1) & 0.79 \\\\\n",
      "NGC7716 & AnaK & 354.131 & 0.297 & 2558 & 34.6 & -23.38 & SDL & 93.3 & 2 &  & 1.02\n"
     ]
    }
   ],
   "source": [
    "from io import StringIO\n",
    "o = StringIO()\n",
    "t.write(o, format=\"ascii.aastex\")\n",
    "o.seek(0)\n",
    "\n",
    "for line in o:\n",
    "    line = line.strip()\n",
    "    if line[0] != \"\\\\\":\n",
    "        print(line)"
   ]
  },
  {
   "cell_type": "code",
   "execution_count": null,
   "metadata": {},
   "outputs": [],
   "source": []
  },
  {
   "cell_type": "code",
   "execution_count": null,
   "metadata": {},
   "outputs": [],
   "source": []
  }
 ],
 "metadata": {
  "kernelspec": {
   "display_name": "Python 3",
   "language": "python",
   "name": "python3"
  },
  "language_info": {
   "codemirror_mode": {
    "name": "ipython",
    "version": 3
   },
   "file_extension": ".py",
   "mimetype": "text/x-python",
   "name": "python",
   "nbconvert_exporter": "python",
   "pygments_lexer": "ipython3",
   "version": "3.7.8"
  }
 },
 "nbformat": 4,
 "nbformat_minor": 4
}

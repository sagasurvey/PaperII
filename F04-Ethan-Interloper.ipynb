{
 "cells": [
  {
   "cell_type": "markdown",
   "metadata": {},
   "source": [
    "### Imports and Settings"
   ]
  },
  {
   "cell_type": "code",
   "execution_count": null,
   "metadata": {},
   "outputs": [],
   "source": [
    "import pickle\n",
    "import os\n",
    "import numpy as np\n",
    "import matplotlib.pyplot as plt\n",
    "from mpl_toolkits.axes_grid1 import make_axes_locatable\n",
    "\n",
    "import SAGA\n",
    "from SAGA.database import FitsTable\n",
    "from easyquery import Query\n",
    "from easyquery import QueryMaker"
   ]
  },
  {
   "cell_type": "code",
   "execution_count": null,
   "metadata": {},
   "outputs": [],
   "source": [
    "%matplotlib inline\n",
    "%config InlineBackend.figure_format='retina'\n",
    "%config InlineBackend.rc = {'figure.facecolor': 'w'}\n",
    "\n",
    "plt.rcParams['font.size'] = 14\n",
    "plt.rcParams['figure.dpi'] = 200\n",
    "plt.rcParams['font.family'] = 'STIXGeneral'\n",
    "plt.rcParams['mathtext.fontset'] = 'stix'\n",
    "plt.rcParams['axes.labelsize'] = 'large'\n",
    "plt.rcParams['legend.frameon'] = False\n",
    "plt.rcParams['lines.markersize'] = 4\n",
    "plt.rcParams['xtick.minor.visible'] = True\n",
    "plt.rcParams['ytick.minor.visible'] = True\n",
    "plt.rcParams['xtick.major.size'] = 6\n",
    "plt.rcParams['xtick.minor.size'] = 4\n",
    "plt.rcParams['ytick.major.size'] = 6\n",
    "plt.rcParams['ytick.minor.size'] = 4"
   ]
  },
  {
   "cell_type": "markdown",
   "metadata": {},
   "source": [
    "### Load SAGA Data"
   ]
  },
  {
   "cell_type": "code",
   "execution_count": null,
   "metadata": {},
   "outputs": [],
   "source": [
    "def vproj_from_specz(spec_z,host_vhost,c=3e5):\n",
    "    return c*spec_z-host_vhost"
   ]
  },
  {
   "cell_type": "code",
   "execution_count": null,
   "metadata": {},
   "outputs": [],
   "source": [
    "saga = SAGA.QuickStart()\n",
    "saga.set_default_base_version(\"paper2\")\n",
    "\n",
    "hosts = saga.host_catalog.load(include_stats=True)\n",
    "paper1_hosts = np.array(['nsa166313', 'nsa147100', 'nsa165536', 'nsa61945', 'nsa132339',\n",
    "                         'nsa149781', 'nsa33446', 'nsa150887'])"
   ]
  },
  {
   "cell_type": "code",
   "execution_count": null,
   "metadata": {},
   "outputs": [],
   "source": [
    "completed_hosts = saga.host_catalog.load(query=\"paper2_complete\", include_stats=\"remote\")\n",
    "observed_hosts = saga.host_catalog.load(query=\"paper2_observed\", include_stats=\"remote\")\n",
    "bright_completed_hosts = saga.host_catalog.load(query=\"paper2_bright_complete\", include_stats=\"remote\")"
   ]
  },
  {
   "cell_type": "code",
   "execution_count": null,
   "metadata": {},
   "outputs": [],
   "source": [
    "verylowz_url = \"https://www.dropbox.com/sh/7qeuqkq0c591k2g/AADvj3rqLvFWMTZICBOG33-2a/saga_verylowz_latest.fits?dl=1\"\n",
    "verylowz = FitsTable(verylowz_url).read()\n",
    "verylowz_completed_hosts = QueryMaker.in1d(\"HOSTID\", completed_hosts[\"HOSTID\"]).filter(verylowz)"
   ]
  },
  {
   "cell_type": "code",
   "execution_count": null,
   "metadata": {},
   "outputs": [],
   "source": [
    "rproj_limit = 300.\n",
    "vproj_limit = 275.\n",
    "confusion_limit = 10.\n",
    "\n",
    "satellite_idx = (verylowz_completed_hosts['RHOST_KPC']<rproj_limit) &\\\n",
    "                (np.abs(vproj_from_specz(verylowz_completed_hosts['SPEC_Z'],\n",
    "                                         verylowz_completed_hosts['HOST_VHOST']))<vproj_limit) &\\\n",
    "                (verylowz_completed_hosts['RHOST_KPC']>confusion_limit)\n",
    "\n",
    "field_idx = ~((verylowz_completed_hosts['RHOST_KPC']<rproj_limit) &\\\n",
    "                (np.abs(vproj_from_specz(verylowz_completed_hosts['SPEC_Z'],\n",
    "                                         verylowz_completed_hosts['HOST_VHOST']))<vproj_limit)) &\\\n",
    "                (verylowz_completed_hosts['RHOST_KPC']>confusion_limit)"
   ]
  },
  {
   "cell_type": "markdown",
   "metadata": {},
   "source": [
    "### Load Simulation Data"
   ]
  },
  {
   "cell_type": "code",
   "execution_count": null,
   "metadata": {},
   "outputs": [],
   "source": [
    "h = 0.7\n",
    "\n",
    "N = 8\n",
    "v_bins = np.linspace(-600,600,N)\n",
    "dist_bins = np.linspace(0,3.75,N)\n",
    "\n",
    "with open('EON_data/rvir_dictionary.pickle', 'rb') as handle:\n",
    "    rvir_dictionary = pickle.load(handle)\n",
    "    \n",
    "with open('EON_data/vesc_dictionary.pickle', 'rb') as handle:\n",
    "    vesc_dictionary = pickle.load(handle)\n",
    "    \n",
    "interloper_map = np.load('EON_data/interloper_map.npy')\n",
    "interloper_map_scaled = np.load('EON_data/interloper_map_scaled.npy')\n",
    "\n",
    "mean = np.load('EON_data/sim_vesc_mean.npy')\n",
    "std = np.load('EON_data/sim_vesc_std.npy')"
   ]
  },
  {
   "cell_type": "code",
   "execution_count": null,
   "metadata": {},
   "outputs": [],
   "source": [
    "fig, ax = plt.subplots(ncols=2, figsize=(10,4))\n",
    "\n",
    "#Left panel\n",
    "ax1 = ax[0]\n",
    "plt.sca(ax1)\n",
    "\n",
    "sc = plt.imshow(interloper_map, extent=[0,750,-600,600], aspect='auto', cmap='bone_r', vmin=0.0,vmax=1.0)\n",
    "\n",
    "plt.plot(np.linspace(0,800,10),vproj_limit*np.ones(10),ls='-',c='gold',lw=2,zorder=1)\n",
    "plt.plot(np.linspace(0,800,10),-1.*vproj_limit*np.ones(10),ls='-',c='gold',lw=2,zorder=1)\n",
    "plt.plot(rproj_limit*np.ones(10),np.linspace(-600,600,10),ls='-',c='gold',lw=2,zorder=1)\n",
    "\n",
    "plt.fill_between(np.linspace(0,confusion_limit,10),-600*np.ones(10),600*np.ones(10),\n",
    "                 edgecolor='gray',facecolor='gray',zorder=1)\n",
    "\n",
    "for sat in verylowz_completed_hosts[satellite_idx]:\n",
    "    if sat['HOSTID'] in paper1_hosts and sat[\"OBJID\"] not in [4443380000000000475, 3115540000000003218]:\n",
    "        paper1 = plt.scatter(sat['RHOST_KPC'],vproj_from_specz(sat['SPEC_Z'],sat['HOST_VHOST']),\n",
    "           c='C2',marker='^',s=20,zorder=999,label=r'Paper I Sat.')\n",
    "    else:\n",
    "        paper2 = plt.scatter(sat['RHOST_KPC'],vproj_from_specz(sat['SPEC_Z'],sat['HOST_VHOST']),\n",
    "           c='g',marker='s',s=17.5,zorder=999,label=r'Paper II Sat.')\n",
    "\n",
    "field = plt.scatter(verylowz_completed_hosts['RHOST_KPC'][field_idx],\n",
    "                    vproj_from_specz(verylowz_completed_hosts['SPEC_Z'][field_idx],\n",
    "                                     verylowz_completed_hosts['HOST_VHOST'][field_idx]),\n",
    "                    c='C1',marker='o',s=6,label=r'Field',zorder=999)\n",
    "\n",
    "plt.xlim(0,700)\n",
    "plt.ylim(-600,600)\n",
    "\n",
    "plt.xticks([0,150,300,450,600],[r'$0$',r'$150$',r'$300$',r'$450$',r'$600$'],fontsize=12)\n",
    "plt.yticks([-600,-400,-200,0,200,400,600],[r'$-600$',r'$-400$',r'$-200$',r'$0$',r'$200$',r'$400$',r'$600$'],\n",
    "           fontsize=12)\n",
    "\n",
    "plt.xlabel(r'Projected Distance [$\\rm{kpc}$]', fontsize=16)\n",
    "plt.ylabel(r'$(v-v_{\\rm{host}})\\ [\\mathrm{km\\ s}^{-1}]$', fontsize=16)\n",
    "\n",
    "leg = plt.legend(loc=2,handles=[paper1,paper2,field],fontsize=11,frameon=True,\n",
    "                 handletextpad=0.1,bbox_to_anchor=(0.007,1.01),labelspacing=0.2, borderpad=0.3)\n",
    "leg.set_zorder(999)\n",
    "for t in leg.get_texts():\n",
    "    t.set_ha('left')\n",
    "    t.set_position((-5,0))\n",
    "\n",
    "\n",
    "#Right panel\n",
    "ax2 = ax[1]\n",
    "plt.sca(ax2)\n",
    "\n",
    "sc = plt.imshow(interloper_map_scaled, extent=[0,2,-5,5], aspect='auto', cmap='bone_r', vmin=0.0,vmax=1.0)\n",
    "\n",
    "plt.fill_between(dist_bins,(mean-std)/(mean[-1]),\n",
    "                  (mean+std)/(mean[-1]),facecolor='gold',\n",
    "                 edgecolor='gold',alpha=0.5,zorder=1,label='NFW\\n$v_{\\\\mathrm{esc}}$',rasterized=True)\n",
    "\n",
    "plt.fill_between(dist_bins,(-1.*mean-1.*std)/(mean[-1]),\n",
    "                  (-1.*mean+1.*std)/((mean[-1])),facecolor='gold',\n",
    "                 edgecolor='gold',alpha=0.5,zorder=1,rasterized=True)\n",
    "\n",
    "for sat in verylowz_completed_hosts[satellite_idx]:\n",
    "    if sat['HOSTID'] in paper1_hosts:\n",
    "        plt.scatter(sat['RHOST_KPC']/(rvir_dictionary[sat['HOSTID']]/h),\n",
    "                    vproj_from_specz(sat['SPEC_Z'],sat['HOST_VHOST'])/vesc_dictionary[sat['HOSTID']],\n",
    "                    c='C2',marker='^',s=20,zorder=999)\n",
    "    else:\n",
    "        plt.scatter(sat['RHOST_KPC']/(rvir_dictionary[sat['HOSTID']]/h),\n",
    "                    vproj_from_specz(sat['SPEC_Z'],sat['HOST_VHOST'])/vesc_dictionary[sat['HOSTID']],\n",
    "                    c='g',marker='s',s=17.5,zorder=999)\n",
    "    \n",
    "for sat in verylowz_completed_hosts[field_idx]:\n",
    "    plt.scatter(sat['RHOST_KPC']/(rvir_dictionary[sat['HOSTID']]/h),\n",
    "                vproj_from_specz(sat['SPEC_Z'],sat['HOST_VHOST'])/vesc_dictionary[sat['HOSTID']],\n",
    "                c='C1',marker='o',s=6,zorder=999)\n",
    "    \n",
    "plt.xlim(0,2)\n",
    "plt.ylim(-5,5)\n",
    "\n",
    "plt.xticks([0,0.5,1.0,1.5,2.0],[r'$0$',r'$0.5$',r'$1.0$',r'$1.5$',r'$2.0$'],fontsize=12)\n",
    "plt.yticks([-4,-2,0,2,4],[r'$-4$',r'$-2$',r'$0$',r'$2$',r'$4$'],fontsize=12)\n",
    "\n",
    "plt.xlabel(r'Projected Distance [units of $R_{\\rm{vir}}$]', fontsize=16)\n",
    "plt.ylabel(r'$(v-v_{\\rm{host}})/v_{\\rm{esc}}(2R_{\\rm{vir}})$', fontsize=16)\n",
    "\n",
    "leg = plt.legend(loc=3,fontsize=11,frameon=True,handletextpad=0.5,handlelength=1.2,bbox_to_anchor=(-0.01,0.0))\n",
    "leg.set_zorder(999)\n",
    "\n",
    "fig.tight_layout(w_pad=2)\n",
    "    \n",
    "cbar = plt.colorbar(sc,ax=ax, aspect=30, pad=0.02)\n",
    "cbar.set_label(r'Interloper Fraction',size=16,labelpad=6)\n",
    "cbar.set_ticks([0,0.2,0.4,0.6,0.8,1.0],[r'$0$',r'$0.2$',r'$0.4$',r'$0.6$',r'$0.8$',r'$1.0$'])\n",
    "cbar.ax.tick_params(labelsize=12)\n",
    "\n",
    "plt.savefig('vdiff.pdf', dpi=200, bbox_inches=\"tight\")\n",
    "plt.show()"
   ]
  },
  {
   "cell_type": "code",
   "execution_count": null,
   "metadata": {},
   "outputs": [],
   "source": []
  }
 ],
 "metadata": {
  "kernelspec": {
   "display_name": "Python 3",
   "language": "python",
   "name": "python3"
  },
  "language_info": {
   "codemirror_mode": {
    "name": "ipython",
    "version": 3
   },
   "file_extension": ".py",
   "mimetype": "text/x-python",
   "name": "python",
   "nbconvert_exporter": "python",
   "pygments_lexer": "ipython3",
   "version": "3.7.8"
  }
 },
 "nbformat": 4,
 "nbformat_minor": 4
}
